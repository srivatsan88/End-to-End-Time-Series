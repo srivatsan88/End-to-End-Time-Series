{
  "nbformat": 4,
  "nbformat_minor": 0,
  "metadata": {
    "colab": {
      "name": "Moving Averages.ipynb",
      "provenance": [],
      "collapsed_sections": []
    },
    "kernelspec": {
      "name": "python3",
      "display_name": "Python 3"
    }
  },
  "cells": [
    {
      "cell_type": "markdown",
      "metadata": {
        "id": "eUfgI7xiS7cz",
        "colab_type": "text"
      },
      "source": [
        "Link to video explaining the code - https://www.youtube.com/watch?v=r71hWIUscV4"
      ]
    },
    {
      "cell_type": "code",
      "metadata": {
        "id": "CY5G7SE9PLEB",
        "colab_type": "code",
        "colab": {}
      },
      "source": [
        "import matplotlib as mpl\n",
        "import matplotlib.pyplot as plt\n",
        "import numpy as np\n",
        "import os\n",
        "from datetime import datetime\n",
        "import pandas as pd\n",
        "\n",
        "mpl.rcParams['figure.figsize'] = (10, 8)\n",
        "mpl.rcParams['axes.grid'] = False\n"
      ],
      "execution_count": 38,
      "outputs": []
    },
    {
      "cell_type": "code",
      "metadata": {
        "id": "pc9-9rleb9_Y",
        "colab_type": "code",
        "colab": {}
      },
      "source": [
        "def parse(x):\n",
        "\treturn datetime.strptime(x, '%m/%d/%Y')"
      ],
      "execution_count": 39,
      "outputs": []
    },
    {
      "cell_type": "code",
      "metadata": {
        "id": "WSoh7Ze0P-jd",
        "colab_type": "code",
        "colab": {
          "base_uri": "https://localhost:8080/",
          "height": 197
        },
        "outputId": "ccf4260f-ba1a-46b1-d3b3-36fa6b795b3f"
      },
      "source": [
        "df = pd.read_csv('https://raw.githubusercontent.com/srivatsan88/YouTubeLI/master/dataset/electricity_consumption.csv', parse_dates = ['Bill_Date'],date_parser=parse)\n",
        "df.head()"
      ],
      "execution_count": 40,
      "outputs": [
        {
          "output_type": "execute_result",
          "data": {
            "text/html": [
              "<div>\n",
              "<style scoped>\n",
              "    .dataframe tbody tr th:only-of-type {\n",
              "        vertical-align: middle;\n",
              "    }\n",
              "\n",
              "    .dataframe tbody tr th {\n",
              "        vertical-align: top;\n",
              "    }\n",
              "\n",
              "    .dataframe thead th {\n",
              "        text-align: right;\n",
              "    }\n",
              "</style>\n",
              "<table border=\"1\" class=\"dataframe\">\n",
              "  <thead>\n",
              "    <tr style=\"text-align: right;\">\n",
              "      <th></th>\n",
              "      <th>Bill_Date</th>\n",
              "      <th>On_peak</th>\n",
              "      <th>Off_peak</th>\n",
              "      <th>Usage_charge</th>\n",
              "      <th>Billed_amount</th>\n",
              "      <th>Billing_days</th>\n",
              "    </tr>\n",
              "  </thead>\n",
              "  <tbody>\n",
              "    <tr>\n",
              "      <th>0</th>\n",
              "      <td>2016-01-01</td>\n",
              "      <td>365</td>\n",
              "      <td>1423.5</td>\n",
              "      <td>219.0</td>\n",
              "      <td>247.73</td>\n",
              "      <td>31</td>\n",
              "    </tr>\n",
              "    <tr>\n",
              "      <th>1</th>\n",
              "      <td>2016-02-01</td>\n",
              "      <td>292</td>\n",
              "      <td>1138.8</td>\n",
              "      <td>175.2</td>\n",
              "      <td>234.11</td>\n",
              "      <td>31</td>\n",
              "    </tr>\n",
              "    <tr>\n",
              "      <th>2</th>\n",
              "      <td>2016-03-01</td>\n",
              "      <td>130</td>\n",
              "      <td>507.0</td>\n",
              "      <td>78.0</td>\n",
              "      <td>123.85</td>\n",
              "      <td>29</td>\n",
              "    </tr>\n",
              "    <tr>\n",
              "      <th>3</th>\n",
              "      <td>2016-04-01</td>\n",
              "      <td>117</td>\n",
              "      <td>456.3</td>\n",
              "      <td>70.2</td>\n",
              "      <td>111.22</td>\n",
              "      <td>29</td>\n",
              "    </tr>\n",
              "    <tr>\n",
              "      <th>4</th>\n",
              "      <td>2016-05-01</td>\n",
              "      <td>136</td>\n",
              "      <td>530.4</td>\n",
              "      <td>81.6</td>\n",
              "      <td>118.37</td>\n",
              "      <td>29</td>\n",
              "    </tr>\n",
              "  </tbody>\n",
              "</table>\n",
              "</div>"
            ],
            "text/plain": [
              "   Bill_Date  On_peak  Off_peak  Usage_charge  Billed_amount  Billing_days\n",
              "0 2016-01-01      365    1423.5         219.0         247.73            31\n",
              "1 2016-02-01      292    1138.8         175.2         234.11            31\n",
              "2 2016-03-01      130     507.0          78.0         123.85            29\n",
              "3 2016-04-01      117     456.3          70.2         111.22            29\n",
              "4 2016-05-01      136     530.4          81.6         118.37            29"
            ]
          },
          "metadata": {
            "tags": []
          },
          "execution_count": 40
        }
      ]
    },
    {
      "cell_type": "code",
      "metadata": {
        "id": "ekRbR-YqwEtA",
        "colab_type": "code",
        "colab": {
          "base_uri": "https://localhost:8080/",
          "height": 392
        },
        "outputId": "97832a5f-bccc-4bb1-d53e-2faf6bd6f096"
      },
      "source": [
        "print (\"Rows     : \" ,df.shape[0])\n",
        "print (\"Columns  : \" ,df.shape[1])\n",
        "print (\"\\nFeatures : \\n\" ,df.columns.tolist())\n",
        "print (\"\\nMissing values :  \", df.isnull().any())\n",
        "print (\"\\nUnique values :  \\n\",df.nunique())"
      ],
      "execution_count": 41,
      "outputs": [
        {
          "output_type": "stream",
          "text": [
            "Rows     :  53\n",
            "Columns  :  6\n",
            "\n",
            "Features : \n",
            " ['Bill_Date', 'On_peak', 'Off_peak', 'Usage_charge', 'Billed_amount', 'Billing_days']\n",
            "\n",
            "Missing values :   Bill_Date        False\n",
            "On_peak          False\n",
            "Off_peak         False\n",
            "Usage_charge     False\n",
            "Billed_amount    False\n",
            "Billing_days     False\n",
            "dtype: bool\n",
            "\n",
            "Unique values :  \n",
            " Bill_Date        53\n",
            "On_peak          51\n",
            "Off_peak         53\n",
            "Usage_charge     53\n",
            "Billed_amount    52\n",
            "Billing_days      9\n",
            "dtype: int64\n"
          ],
          "name": "stdout"
        }
      ]
    },
    {
      "cell_type": "code",
      "metadata": {
        "id": "bJHsRdAl5C6I",
        "colab_type": "code",
        "colab": {}
      },
      "source": [
        "bill_df=df.set_index(\"Bill_Date\")"
      ],
      "execution_count": 42,
      "outputs": []
    },
    {
      "cell_type": "code",
      "metadata": {
        "id": "A5LxljglE8_x",
        "colab_type": "code",
        "colab": {
          "base_uri": "https://localhost:8080/",
          "height": 227
        },
        "outputId": "d6edf192-7ced-412a-8328-0a4abad10153"
      },
      "source": [
        "bill_df.head()"
      ],
      "execution_count": 43,
      "outputs": [
        {
          "output_type": "execute_result",
          "data": {
            "text/html": [
              "<div>\n",
              "<style scoped>\n",
              "    .dataframe tbody tr th:only-of-type {\n",
              "        vertical-align: middle;\n",
              "    }\n",
              "\n",
              "    .dataframe tbody tr th {\n",
              "        vertical-align: top;\n",
              "    }\n",
              "\n",
              "    .dataframe thead th {\n",
              "        text-align: right;\n",
              "    }\n",
              "</style>\n",
              "<table border=\"1\" class=\"dataframe\">\n",
              "  <thead>\n",
              "    <tr style=\"text-align: right;\">\n",
              "      <th></th>\n",
              "      <th>On_peak</th>\n",
              "      <th>Off_peak</th>\n",
              "      <th>Usage_charge</th>\n",
              "      <th>Billed_amount</th>\n",
              "      <th>Billing_days</th>\n",
              "    </tr>\n",
              "    <tr>\n",
              "      <th>Bill_Date</th>\n",
              "      <th></th>\n",
              "      <th></th>\n",
              "      <th></th>\n",
              "      <th></th>\n",
              "      <th></th>\n",
              "    </tr>\n",
              "  </thead>\n",
              "  <tbody>\n",
              "    <tr>\n",
              "      <th>2016-01-01</th>\n",
              "      <td>365</td>\n",
              "      <td>1423.5</td>\n",
              "      <td>219.0</td>\n",
              "      <td>247.73</td>\n",
              "      <td>31</td>\n",
              "    </tr>\n",
              "    <tr>\n",
              "      <th>2016-02-01</th>\n",
              "      <td>292</td>\n",
              "      <td>1138.8</td>\n",
              "      <td>175.2</td>\n",
              "      <td>234.11</td>\n",
              "      <td>31</td>\n",
              "    </tr>\n",
              "    <tr>\n",
              "      <th>2016-03-01</th>\n",
              "      <td>130</td>\n",
              "      <td>507.0</td>\n",
              "      <td>78.0</td>\n",
              "      <td>123.85</td>\n",
              "      <td>29</td>\n",
              "    </tr>\n",
              "    <tr>\n",
              "      <th>2016-04-01</th>\n",
              "      <td>117</td>\n",
              "      <td>456.3</td>\n",
              "      <td>70.2</td>\n",
              "      <td>111.22</td>\n",
              "      <td>29</td>\n",
              "    </tr>\n",
              "    <tr>\n",
              "      <th>2016-05-01</th>\n",
              "      <td>136</td>\n",
              "      <td>530.4</td>\n",
              "      <td>81.6</td>\n",
              "      <td>118.37</td>\n",
              "      <td>29</td>\n",
              "    </tr>\n",
              "  </tbody>\n",
              "</table>\n",
              "</div>"
            ],
            "text/plain": [
              "            On_peak  Off_peak  Usage_charge  Billed_amount  Billing_days\n",
              "Bill_Date                                                               \n",
              "2016-01-01      365    1423.5         219.0         247.73            31\n",
              "2016-02-01      292    1138.8         175.2         234.11            31\n",
              "2016-03-01      130     507.0          78.0         123.85            29\n",
              "2016-04-01      117     456.3          70.2         111.22            29\n",
              "2016-05-01      136     530.4          81.6         118.37            29"
            ]
          },
          "metadata": {
            "tags": []
          },
          "execution_count": 43
        }
      ]
    },
    {
      "cell_type": "code",
      "metadata": {
        "id": "ajWqia3yGkv8",
        "colab_type": "code",
        "colab": {}
      },
      "source": [
        "bill_2018 = bill_df['2016':'2018'][['Billed_amount']]"
      ],
      "execution_count": 44,
      "outputs": []
    },
    {
      "cell_type": "code",
      "metadata": {
        "id": "PEn1c460HOdL",
        "colab_type": "code",
        "colab": {
          "base_uri": "https://localhost:8080/",
          "height": 1000
        },
        "outputId": "0f210b89-adb5-4ebb-ac6b-95804ec169b6"
      },
      "source": [
        "bill_2018"
      ],
      "execution_count": 45,
      "outputs": [
        {
          "output_type": "execute_result",
          "data": {
            "text/html": [
              "<div>\n",
              "<style scoped>\n",
              "    .dataframe tbody tr th:only-of-type {\n",
              "        vertical-align: middle;\n",
              "    }\n",
              "\n",
              "    .dataframe tbody tr th {\n",
              "        vertical-align: top;\n",
              "    }\n",
              "\n",
              "    .dataframe thead th {\n",
              "        text-align: right;\n",
              "    }\n",
              "</style>\n",
              "<table border=\"1\" class=\"dataframe\">\n",
              "  <thead>\n",
              "    <tr style=\"text-align: right;\">\n",
              "      <th></th>\n",
              "      <th>Billed_amount</th>\n",
              "    </tr>\n",
              "    <tr>\n",
              "      <th>Bill_Date</th>\n",
              "      <th></th>\n",
              "    </tr>\n",
              "  </thead>\n",
              "  <tbody>\n",
              "    <tr>\n",
              "      <th>2016-01-01</th>\n",
              "      <td>247.73</td>\n",
              "    </tr>\n",
              "    <tr>\n",
              "      <th>2016-02-01</th>\n",
              "      <td>234.11</td>\n",
              "    </tr>\n",
              "    <tr>\n",
              "      <th>2016-03-01</th>\n",
              "      <td>123.85</td>\n",
              "    </tr>\n",
              "    <tr>\n",
              "      <th>2016-04-01</th>\n",
              "      <td>111.22</td>\n",
              "    </tr>\n",
              "    <tr>\n",
              "      <th>2016-05-01</th>\n",
              "      <td>118.37</td>\n",
              "    </tr>\n",
              "    <tr>\n",
              "      <th>2016-06-01</th>\n",
              "      <td>77.81</td>\n",
              "    </tr>\n",
              "    <tr>\n",
              "      <th>2016-07-01</th>\n",
              "      <td>86.67</td>\n",
              "    </tr>\n",
              "    <tr>\n",
              "      <th>2016-08-01</th>\n",
              "      <td>122.40</td>\n",
              "    </tr>\n",
              "    <tr>\n",
              "      <th>2016-09-01</th>\n",
              "      <td>223.62</td>\n",
              "    </tr>\n",
              "    <tr>\n",
              "      <th>2016-10-01</th>\n",
              "      <td>152.54</td>\n",
              "    </tr>\n",
              "    <tr>\n",
              "      <th>2016-11-01</th>\n",
              "      <td>150.54</td>\n",
              "    </tr>\n",
              "    <tr>\n",
              "      <th>2016-12-01</th>\n",
              "      <td>244.37</td>\n",
              "    </tr>\n",
              "    <tr>\n",
              "      <th>2017-01-01</th>\n",
              "      <td>263.64</td>\n",
              "    </tr>\n",
              "    <tr>\n",
              "      <th>2017-02-01</th>\n",
              "      <td>214.32</td>\n",
              "    </tr>\n",
              "    <tr>\n",
              "      <th>2017-03-01</th>\n",
              "      <td>151.54</td>\n",
              "    </tr>\n",
              "    <tr>\n",
              "      <th>2017-04-01</th>\n",
              "      <td>118.79</td>\n",
              "    </tr>\n",
              "    <tr>\n",
              "      <th>2017-05-01</th>\n",
              "      <td>153.18</td>\n",
              "    </tr>\n",
              "    <tr>\n",
              "      <th>2017-06-01</th>\n",
              "      <td>212.08</td>\n",
              "    </tr>\n",
              "    <tr>\n",
              "      <th>2017-07-01</th>\n",
              "      <td>281.19</td>\n",
              "    </tr>\n",
              "    <tr>\n",
              "      <th>2017-08-01</th>\n",
              "      <td>237.97</td>\n",
              "    </tr>\n",
              "    <tr>\n",
              "      <th>2017-09-01</th>\n",
              "      <td>284.30</td>\n",
              "    </tr>\n",
              "    <tr>\n",
              "      <th>2017-10-01</th>\n",
              "      <td>172.69</td>\n",
              "    </tr>\n",
              "    <tr>\n",
              "      <th>2017-11-01</th>\n",
              "      <td>111.51</td>\n",
              "    </tr>\n",
              "    <tr>\n",
              "      <th>2017-12-01</th>\n",
              "      <td>151.42</td>\n",
              "    </tr>\n",
              "    <tr>\n",
              "      <th>2018-01-01</th>\n",
              "      <td>267.32</td>\n",
              "    </tr>\n",
              "    <tr>\n",
              "      <th>2018-02-01</th>\n",
              "      <td>201.35</td>\n",
              "    </tr>\n",
              "    <tr>\n",
              "      <th>2018-03-01</th>\n",
              "      <td>202.91</td>\n",
              "    </tr>\n",
              "    <tr>\n",
              "      <th>2018-04-01</th>\n",
              "      <td>150.86</td>\n",
              "    </tr>\n",
              "    <tr>\n",
              "      <th>2018-05-01</th>\n",
              "      <td>163.07</td>\n",
              "    </tr>\n",
              "    <tr>\n",
              "      <th>2018-06-01</th>\n",
              "      <td>219.76</td>\n",
              "    </tr>\n",
              "    <tr>\n",
              "      <th>2018-07-01</th>\n",
              "      <td>283.98</td>\n",
              "    </tr>\n",
              "    <tr>\n",
              "      <th>2018-08-01</th>\n",
              "      <td>290.15</td>\n",
              "    </tr>\n",
              "    <tr>\n",
              "      <th>2018-09-01</th>\n",
              "      <td>257.96</td>\n",
              "    </tr>\n",
              "    <tr>\n",
              "      <th>2018-10-01</th>\n",
              "      <td>327.19</td>\n",
              "    </tr>\n",
              "    <tr>\n",
              "      <th>2018-11-01</th>\n",
              "      <td>193.49</td>\n",
              "    </tr>\n",
              "    <tr>\n",
              "      <th>2018-12-01</th>\n",
              "      <td>152.34</td>\n",
              "    </tr>\n",
              "  </tbody>\n",
              "</table>\n",
              "</div>"
            ],
            "text/plain": [
              "            Billed_amount\n",
              "Bill_Date                \n",
              "2016-01-01         247.73\n",
              "2016-02-01         234.11\n",
              "2016-03-01         123.85\n",
              "2016-04-01         111.22\n",
              "2016-05-01         118.37\n",
              "2016-06-01          77.81\n",
              "2016-07-01          86.67\n",
              "2016-08-01         122.40\n",
              "2016-09-01         223.62\n",
              "2016-10-01         152.54\n",
              "2016-11-01         150.54\n",
              "2016-12-01         244.37\n",
              "2017-01-01         263.64\n",
              "2017-02-01         214.32\n",
              "2017-03-01         151.54\n",
              "2017-04-01         118.79\n",
              "2017-05-01         153.18\n",
              "2017-06-01         212.08\n",
              "2017-07-01         281.19\n",
              "2017-08-01         237.97\n",
              "2017-09-01         284.30\n",
              "2017-10-01         172.69\n",
              "2017-11-01         111.51\n",
              "2017-12-01         151.42\n",
              "2018-01-01         267.32\n",
              "2018-02-01         201.35\n",
              "2018-03-01         202.91\n",
              "2018-04-01         150.86\n",
              "2018-05-01         163.07\n",
              "2018-06-01         219.76\n",
              "2018-07-01         283.98\n",
              "2018-08-01         290.15\n",
              "2018-09-01         257.96\n",
              "2018-10-01         327.19\n",
              "2018-11-01         193.49\n",
              "2018-12-01         152.34"
            ]
          },
          "metadata": {
            "tags": []
          },
          "execution_count": 45
        }
      ]
    },
    {
      "cell_type": "markdown",
      "metadata": {
        "id": "HpS41rSyzH1m",
        "colab_type": "text"
      },
      "source": [
        "Simple moving average = (t + (t-1) + (t-2) + ... + (t-n)) / n"
      ]
    },
    {
      "cell_type": "code",
      "metadata": {
        "id": "UBvYPmh1E885",
        "colab_type": "code",
        "colab": {
          "base_uri": "https://localhost:8080/",
          "height": 665
        },
        "outputId": "01342ed8-b732-4f28-a07f-9bc7bf07d437"
      },
      "source": [
        "bill_2018['Billed_amount'].rolling(window=3).mean()"
      ],
      "execution_count": 46,
      "outputs": [
        {
          "output_type": "execute_result",
          "data": {
            "text/plain": [
              "Bill_Date\n",
              "2016-01-01           NaN\n",
              "2016-02-01           NaN\n",
              "2016-03-01    201.896667\n",
              "2016-04-01    156.393333\n",
              "2016-05-01    117.813333\n",
              "2016-06-01    102.466667\n",
              "2016-07-01     94.283333\n",
              "2016-08-01     95.626667\n",
              "2016-09-01    144.230000\n",
              "2016-10-01    166.186667\n",
              "2016-11-01    175.566667\n",
              "2016-12-01    182.483333\n",
              "2017-01-01    219.516667\n",
              "2017-02-01    240.776667\n",
              "2017-03-01    209.833333\n",
              "2017-04-01    161.550000\n",
              "2017-05-01    141.170000\n",
              "2017-06-01    161.350000\n",
              "2017-07-01    215.483333\n",
              "2017-08-01    243.746667\n",
              "2017-09-01    267.820000\n",
              "2017-10-01    231.653333\n",
              "2017-11-01    189.500000\n",
              "2017-12-01    145.206667\n",
              "2018-01-01    176.750000\n",
              "2018-02-01    206.696667\n",
              "2018-03-01    223.860000\n",
              "2018-04-01    185.040000\n",
              "2018-05-01    172.280000\n",
              "2018-06-01    177.896667\n",
              "2018-07-01    222.270000\n",
              "2018-08-01    264.630000\n",
              "2018-09-01    277.363333\n",
              "2018-10-01    291.766667\n",
              "2018-11-01    259.546667\n",
              "2018-12-01    224.340000\n",
              "Name: Billed_amount, dtype: float64"
            ]
          },
          "metadata": {
            "tags": []
          },
          "execution_count": 46
        }
      ]
    },
    {
      "cell_type": "code",
      "metadata": {
        "id": "dz-eNupME86J",
        "colab_type": "code",
        "colab": {}
      },
      "source": [
        "bill_2018['ma_rolling_3']=bill_2018['Billed_amount'].rolling(window=3).mean().shift(1)"
      ],
      "execution_count": 47,
      "outputs": []
    },
    {
      "cell_type": "code",
      "metadata": {
        "id": "T-SphqTYE82u",
        "colab_type": "code",
        "colab": {
          "base_uri": "https://localhost:8080/",
          "height": 1000
        },
        "outputId": "2277d425-1b79-432b-b3e4-b9f286c8c13c"
      },
      "source": [
        "bill_2018"
      ],
      "execution_count": 48,
      "outputs": [
        {
          "output_type": "execute_result",
          "data": {
            "text/html": [
              "<div>\n",
              "<style scoped>\n",
              "    .dataframe tbody tr th:only-of-type {\n",
              "        vertical-align: middle;\n",
              "    }\n",
              "\n",
              "    .dataframe tbody tr th {\n",
              "        vertical-align: top;\n",
              "    }\n",
              "\n",
              "    .dataframe thead th {\n",
              "        text-align: right;\n",
              "    }\n",
              "</style>\n",
              "<table border=\"1\" class=\"dataframe\">\n",
              "  <thead>\n",
              "    <tr style=\"text-align: right;\">\n",
              "      <th></th>\n",
              "      <th>Billed_amount</th>\n",
              "      <th>ma_rolling_3</th>\n",
              "    </tr>\n",
              "    <tr>\n",
              "      <th>Bill_Date</th>\n",
              "      <th></th>\n",
              "      <th></th>\n",
              "    </tr>\n",
              "  </thead>\n",
              "  <tbody>\n",
              "    <tr>\n",
              "      <th>2016-01-01</th>\n",
              "      <td>247.73</td>\n",
              "      <td>NaN</td>\n",
              "    </tr>\n",
              "    <tr>\n",
              "      <th>2016-02-01</th>\n",
              "      <td>234.11</td>\n",
              "      <td>NaN</td>\n",
              "    </tr>\n",
              "    <tr>\n",
              "      <th>2016-03-01</th>\n",
              "      <td>123.85</td>\n",
              "      <td>NaN</td>\n",
              "    </tr>\n",
              "    <tr>\n",
              "      <th>2016-04-01</th>\n",
              "      <td>111.22</td>\n",
              "      <td>201.896667</td>\n",
              "    </tr>\n",
              "    <tr>\n",
              "      <th>2016-05-01</th>\n",
              "      <td>118.37</td>\n",
              "      <td>156.393333</td>\n",
              "    </tr>\n",
              "    <tr>\n",
              "      <th>2016-06-01</th>\n",
              "      <td>77.81</td>\n",
              "      <td>117.813333</td>\n",
              "    </tr>\n",
              "    <tr>\n",
              "      <th>2016-07-01</th>\n",
              "      <td>86.67</td>\n",
              "      <td>102.466667</td>\n",
              "    </tr>\n",
              "    <tr>\n",
              "      <th>2016-08-01</th>\n",
              "      <td>122.40</td>\n",
              "      <td>94.283333</td>\n",
              "    </tr>\n",
              "    <tr>\n",
              "      <th>2016-09-01</th>\n",
              "      <td>223.62</td>\n",
              "      <td>95.626667</td>\n",
              "    </tr>\n",
              "    <tr>\n",
              "      <th>2016-10-01</th>\n",
              "      <td>152.54</td>\n",
              "      <td>144.230000</td>\n",
              "    </tr>\n",
              "    <tr>\n",
              "      <th>2016-11-01</th>\n",
              "      <td>150.54</td>\n",
              "      <td>166.186667</td>\n",
              "    </tr>\n",
              "    <tr>\n",
              "      <th>2016-12-01</th>\n",
              "      <td>244.37</td>\n",
              "      <td>175.566667</td>\n",
              "    </tr>\n",
              "    <tr>\n",
              "      <th>2017-01-01</th>\n",
              "      <td>263.64</td>\n",
              "      <td>182.483333</td>\n",
              "    </tr>\n",
              "    <tr>\n",
              "      <th>2017-02-01</th>\n",
              "      <td>214.32</td>\n",
              "      <td>219.516667</td>\n",
              "    </tr>\n",
              "    <tr>\n",
              "      <th>2017-03-01</th>\n",
              "      <td>151.54</td>\n",
              "      <td>240.776667</td>\n",
              "    </tr>\n",
              "    <tr>\n",
              "      <th>2017-04-01</th>\n",
              "      <td>118.79</td>\n",
              "      <td>209.833333</td>\n",
              "    </tr>\n",
              "    <tr>\n",
              "      <th>2017-05-01</th>\n",
              "      <td>153.18</td>\n",
              "      <td>161.550000</td>\n",
              "    </tr>\n",
              "    <tr>\n",
              "      <th>2017-06-01</th>\n",
              "      <td>212.08</td>\n",
              "      <td>141.170000</td>\n",
              "    </tr>\n",
              "    <tr>\n",
              "      <th>2017-07-01</th>\n",
              "      <td>281.19</td>\n",
              "      <td>161.350000</td>\n",
              "    </tr>\n",
              "    <tr>\n",
              "      <th>2017-08-01</th>\n",
              "      <td>237.97</td>\n",
              "      <td>215.483333</td>\n",
              "    </tr>\n",
              "    <tr>\n",
              "      <th>2017-09-01</th>\n",
              "      <td>284.30</td>\n",
              "      <td>243.746667</td>\n",
              "    </tr>\n",
              "    <tr>\n",
              "      <th>2017-10-01</th>\n",
              "      <td>172.69</td>\n",
              "      <td>267.820000</td>\n",
              "    </tr>\n",
              "    <tr>\n",
              "      <th>2017-11-01</th>\n",
              "      <td>111.51</td>\n",
              "      <td>231.653333</td>\n",
              "    </tr>\n",
              "    <tr>\n",
              "      <th>2017-12-01</th>\n",
              "      <td>151.42</td>\n",
              "      <td>189.500000</td>\n",
              "    </tr>\n",
              "    <tr>\n",
              "      <th>2018-01-01</th>\n",
              "      <td>267.32</td>\n",
              "      <td>145.206667</td>\n",
              "    </tr>\n",
              "    <tr>\n",
              "      <th>2018-02-01</th>\n",
              "      <td>201.35</td>\n",
              "      <td>176.750000</td>\n",
              "    </tr>\n",
              "    <tr>\n",
              "      <th>2018-03-01</th>\n",
              "      <td>202.91</td>\n",
              "      <td>206.696667</td>\n",
              "    </tr>\n",
              "    <tr>\n",
              "      <th>2018-04-01</th>\n",
              "      <td>150.86</td>\n",
              "      <td>223.860000</td>\n",
              "    </tr>\n",
              "    <tr>\n",
              "      <th>2018-05-01</th>\n",
              "      <td>163.07</td>\n",
              "      <td>185.040000</td>\n",
              "    </tr>\n",
              "    <tr>\n",
              "      <th>2018-06-01</th>\n",
              "      <td>219.76</td>\n",
              "      <td>172.280000</td>\n",
              "    </tr>\n",
              "    <tr>\n",
              "      <th>2018-07-01</th>\n",
              "      <td>283.98</td>\n",
              "      <td>177.896667</td>\n",
              "    </tr>\n",
              "    <tr>\n",
              "      <th>2018-08-01</th>\n",
              "      <td>290.15</td>\n",
              "      <td>222.270000</td>\n",
              "    </tr>\n",
              "    <tr>\n",
              "      <th>2018-09-01</th>\n",
              "      <td>257.96</td>\n",
              "      <td>264.630000</td>\n",
              "    </tr>\n",
              "    <tr>\n",
              "      <th>2018-10-01</th>\n",
              "      <td>327.19</td>\n",
              "      <td>277.363333</td>\n",
              "    </tr>\n",
              "    <tr>\n",
              "      <th>2018-11-01</th>\n",
              "      <td>193.49</td>\n",
              "      <td>291.766667</td>\n",
              "    </tr>\n",
              "    <tr>\n",
              "      <th>2018-12-01</th>\n",
              "      <td>152.34</td>\n",
              "      <td>259.546667</td>\n",
              "    </tr>\n",
              "  </tbody>\n",
              "</table>\n",
              "</div>"
            ],
            "text/plain": [
              "            Billed_amount  ma_rolling_3\n",
              "Bill_Date                              \n",
              "2016-01-01         247.73           NaN\n",
              "2016-02-01         234.11           NaN\n",
              "2016-03-01         123.85           NaN\n",
              "2016-04-01         111.22    201.896667\n",
              "2016-05-01         118.37    156.393333\n",
              "2016-06-01          77.81    117.813333\n",
              "2016-07-01          86.67    102.466667\n",
              "2016-08-01         122.40     94.283333\n",
              "2016-09-01         223.62     95.626667\n",
              "2016-10-01         152.54    144.230000\n",
              "2016-11-01         150.54    166.186667\n",
              "2016-12-01         244.37    175.566667\n",
              "2017-01-01         263.64    182.483333\n",
              "2017-02-01         214.32    219.516667\n",
              "2017-03-01         151.54    240.776667\n",
              "2017-04-01         118.79    209.833333\n",
              "2017-05-01         153.18    161.550000\n",
              "2017-06-01         212.08    141.170000\n",
              "2017-07-01         281.19    161.350000\n",
              "2017-08-01         237.97    215.483333\n",
              "2017-09-01         284.30    243.746667\n",
              "2017-10-01         172.69    267.820000\n",
              "2017-11-01         111.51    231.653333\n",
              "2017-12-01         151.42    189.500000\n",
              "2018-01-01         267.32    145.206667\n",
              "2018-02-01         201.35    176.750000\n",
              "2018-03-01         202.91    206.696667\n",
              "2018-04-01         150.86    223.860000\n",
              "2018-05-01         163.07    185.040000\n",
              "2018-06-01         219.76    172.280000\n",
              "2018-07-01         283.98    177.896667\n",
              "2018-08-01         290.15    222.270000\n",
              "2018-09-01         257.96    264.630000\n",
              "2018-10-01         327.19    277.363333\n",
              "2018-11-01         193.49    291.766667\n",
              "2018-12-01         152.34    259.546667"
            ]
          },
          "metadata": {
            "tags": []
          },
          "execution_count": 48
        }
      ]
    },
    {
      "cell_type": "code",
      "metadata": {
        "id": "paiqHYifM7bO",
        "colab_type": "code",
        "colab": {
          "base_uri": "https://localhost:8080/",
          "height": 508
        },
        "outputId": "26897fff-4708-4bae-b53c-2b8b43ebc251"
      },
      "source": [
        "bill_2018.plot();"
      ],
      "execution_count": 49,
      "outputs": [
        {
          "output_type": "display_data",
          "data": {
            "image/png": "[encoded data removed]",
            "text/plain": [
              "<Figure size 720x576 with 1 Axes>"
            ]
          },
          "metadata": {
            "tags": [],
            "needs_background": "light"
          }
        }
      ]
    },
    {
      "cell_type": "markdown",
      "metadata": {
        "id": "bxzVBI463G-O",
        "colab_type": "text"
      },
      "source": [
        "\n",
        "\\begin{equation}\n",
        "WeightedMovingAverage = (t \\cdot weighting factor) + ((t-1) \\cdot weighting factor-1) + \\frac{(t-n) \\cdot weighting factor-n}{n} \n",
        "\\end{equation}\n"
      ]
    },
    {
      "cell_type": "code",
      "metadata": {
        "id": "3h7wFgM5E8qE",
        "colab_type": "code",
        "colab": {}
      },
      "source": [
        "def wma(weights): \n",
        "  def calc(x):\n",
        "    return (weights*x).mean()\n",
        "  return calc"
      ],
      "execution_count": 50,
      "outputs": []
    },
    {
      "cell_type": "code",
      "metadata": {
        "id": "7Q1-fNJYE8gz",
        "colab_type": "code",
        "colab": {
          "base_uri": "https://localhost:8080/",
          "height": 665
        },
        "outputId": "0c01cf9a-6364-4efe-81ea-97d55d05fb9c"
      },
      "source": [
        "bill_2018['Billed_amount'].rolling(window=3).apply(wma(np.array([0.5,1,1.5])))"
      ],
      "execution_count": 51,
      "outputs": [
        {
          "output_type": "execute_result",
          "data": {
            "text/plain": [
              "Bill_Date\n",
              "2016-01-01           NaN\n",
              "2016-02-01           NaN\n",
              "2016-03-01    181.250000\n",
              "2016-04-01    135.911667\n",
              "2016-05-01    116.900000\n",
              "2016-06-01     96.898333\n",
              "2016-07-01     89.000000\n",
              "2016-08-01    103.058333\n",
              "2016-09-01    167.055000\n",
              "2016-10-01    171.210000\n",
              "2016-11-01    163.386667\n",
              "2016-12-01    197.788333\n",
              "2017-01-01    238.366667\n",
              "2017-02-01    235.768333\n",
              "2017-03-01    191.150000\n",
              "2017-04-01    145.628333\n",
              "2017-05-01    141.443333\n",
              "2017-06-01    176.898333\n",
              "2017-07-01    236.818333\n",
              "2017-08-01    248.061667\n",
              "2017-09-01    268.338333\n",
              "2017-10-01    220.773333\n",
              "2017-11-01    160.701667\n",
              "2017-12-01    141.661667\n",
              "2018-01-01    202.718333\n",
              "2018-02-01    215.018333\n",
              "2018-03-01    213.125000\n",
              "2018-04-01    176.625000\n",
              "2018-05-01    165.640000\n",
              "2018-06-01    189.380000\n",
              "2018-07-01    242.421667\n",
              "2018-08-01    276.361667\n",
              "2018-09-01    273.026667\n",
              "2018-10-01    297.940000\n",
              "2018-11-01    248.801667\n",
              "2018-12-01    195.198333\n",
              "Name: Billed_amount, dtype: float64"
            ]
          },
          "metadata": {
            "tags": []
          },
          "execution_count": 51
        }
      ]
    },
    {
      "cell_type": "code",
      "metadata": {
        "id": "U5ha0--uJ51C",
        "colab_type": "code",
        "colab": {}
      },
      "source": [
        "bill_2018['wma_rolling_3']=bill_2018['Billed_amount'].rolling(window=3).apply(wma(np.array([0.5,1,1.5]))).shift(1)"
      ],
      "execution_count": 52,
      "outputs": []
    },
    {
      "cell_type": "code",
      "metadata": {
        "id": "Nr17yUpGaGOr",
        "colab_type": "code",
        "colab": {
          "base_uri": "https://localhost:8080/",
          "height": 1000
        },
        "outputId": "46bc0153-6761-4f3f-d708-8247afabffe3"
      },
      "source": [
        "bill_2018"
      ],
      "execution_count": 53,
      "outputs": [
        {
          "output_type": "execute_result",
          "data": {
            "text/html": [
              "<div>\n",
              "<style scoped>\n",
              "    .dataframe tbody tr th:only-of-type {\n",
              "        vertical-align: middle;\n",
              "    }\n",
              "\n",
              "    .dataframe tbody tr th {\n",
              "        vertical-align: top;\n",
              "    }\n",
              "\n",
              "    .dataframe thead th {\n",
              "        text-align: right;\n",
              "    }\n",
              "</style>\n",
              "<table border=\"1\" class=\"dataframe\">\n",
              "  <thead>\n",
              "    <tr style=\"text-align: right;\">\n",
              "      <th></th>\n",
              "      <th>Billed_amount</th>\n",
              "      <th>ma_rolling_3</th>\n",
              "      <th>wma_rolling_3</th>\n",
              "    </tr>\n",
              "    <tr>\n",
              "      <th>Bill_Date</th>\n",
              "      <th></th>\n",
              "      <th></th>\n",
              "      <th></th>\n",
              "    </tr>\n",
              "  </thead>\n",
              "  <tbody>\n",
              "    <tr>\n",
              "      <th>2016-01-01</th>\n",
              "      <td>247.73</td>\n",
              "      <td>NaN</td>\n",
              "      <td>NaN</td>\n",
              "    </tr>\n",
              "    <tr>\n",
              "      <th>2016-02-01</th>\n",
              "      <td>234.11</td>\n",
              "      <td>NaN</td>\n",
              "      <td>NaN</td>\n",
              "    </tr>\n",
              "    <tr>\n",
              "      <th>2016-03-01</th>\n",
              "      <td>123.85</td>\n",
              "      <td>NaN</td>\n",
              "      <td>NaN</td>\n",
              "    </tr>\n",
              "    <tr>\n",
              "      <th>2016-04-01</th>\n",
              "      <td>111.22</td>\n",
              "      <td>201.896667</td>\n",
              "      <td>181.250000</td>\n",
              "    </tr>\n",
              "    <tr>\n",
              "      <th>2016-05-01</th>\n",
              "      <td>118.37</td>\n",
              "      <td>156.393333</td>\n",
              "      <td>135.911667</td>\n",
              "    </tr>\n",
              "    <tr>\n",
              "      <th>2016-06-01</th>\n",
              "      <td>77.81</td>\n",
              "      <td>117.813333</td>\n",
              "      <td>116.900000</td>\n",
              "    </tr>\n",
              "    <tr>\n",
              "      <th>2016-07-01</th>\n",
              "      <td>86.67</td>\n",
              "      <td>102.466667</td>\n",
              "      <td>96.898333</td>\n",
              "    </tr>\n",
              "    <tr>\n",
              "      <th>2016-08-01</th>\n",
              "      <td>122.40</td>\n",
              "      <td>94.283333</td>\n",
              "      <td>89.000000</td>\n",
              "    </tr>\n",
              "    <tr>\n",
              "      <th>2016-09-01</th>\n",
              "      <td>223.62</td>\n",
              "      <td>95.626667</td>\n",
              "      <td>103.058333</td>\n",
              "    </tr>\n",
              "    <tr>\n",
              "      <th>2016-10-01</th>\n",
              "      <td>152.54</td>\n",
              "      <td>144.230000</td>\n",
              "      <td>167.055000</td>\n",
              "    </tr>\n",
              "    <tr>\n",
              "      <th>2016-11-01</th>\n",
              "      <td>150.54</td>\n",
              "      <td>166.186667</td>\n",
              "      <td>171.210000</td>\n",
              "    </tr>\n",
              "    <tr>\n",
              "      <th>2016-12-01</th>\n",
              "      <td>244.37</td>\n",
              "      <td>175.566667</td>\n",
              "      <td>163.386667</td>\n",
              "    </tr>\n",
              "    <tr>\n",
              "      <th>2017-01-01</th>\n",
              "      <td>263.64</td>\n",
              "      <td>182.483333</td>\n",
              "      <td>197.788333</td>\n",
              "    </tr>\n",
              "    <tr>\n",
              "      <th>2017-02-01</th>\n",
              "      <td>214.32</td>\n",
              "      <td>219.516667</td>\n",
              "      <td>238.366667</td>\n",
              "    </tr>\n",
              "    <tr>\n",
              "      <th>2017-03-01</th>\n",
              "      <td>151.54</td>\n",
              "      <td>240.776667</td>\n",
              "      <td>235.768333</td>\n",
              "    </tr>\n",
              "    <tr>\n",
              "      <th>2017-04-01</th>\n",
              "      <td>118.79</td>\n",
              "      <td>209.833333</td>\n",
              "      <td>191.150000</td>\n",
              "    </tr>\n",
              "    <tr>\n",
              "      <th>2017-05-01</th>\n",
              "      <td>153.18</td>\n",
              "      <td>161.550000</td>\n",
              "      <td>145.628333</td>\n",
              "    </tr>\n",
              "    <tr>\n",
              "      <th>2017-06-01</th>\n",
              "      <td>212.08</td>\n",
              "      <td>141.170000</td>\n",
              "      <td>141.443333</td>\n",
              "    </tr>\n",
              "    <tr>\n",
              "      <th>2017-07-01</th>\n",
              "      <td>281.19</td>\n",
              "      <td>161.350000</td>\n",
              "      <td>176.898333</td>\n",
              "    </tr>\n",
              "    <tr>\n",
              "      <th>2017-08-01</th>\n",
              "      <td>237.97</td>\n",
              "      <td>215.483333</td>\n",
              "      <td>236.818333</td>\n",
              "    </tr>\n",
              "    <tr>\n",
              "      <th>2017-09-01</th>\n",
              "      <td>284.30</td>\n",
              "      <td>243.746667</td>\n",
              "      <td>248.061667</td>\n",
              "    </tr>\n",
              "    <tr>\n",
              "      <th>2017-10-01</th>\n",
              "      <td>172.69</td>\n",
              "      <td>267.820000</td>\n",
              "      <td>268.338333</td>\n",
              "    </tr>\n",
              "    <tr>\n",
              "      <th>2017-11-01</th>\n",
              "      <td>111.51</td>\n",
              "      <td>231.653333</td>\n",
              "      <td>220.773333</td>\n",
              "    </tr>\n",
              "    <tr>\n",
              "      <th>2017-12-01</th>\n",
              "      <td>151.42</td>\n",
              "      <td>189.500000</td>\n",
              "      <td>160.701667</td>\n",
              "    </tr>\n",
              "    <tr>\n",
              "      <th>2018-01-01</th>\n",
              "      <td>267.32</td>\n",
              "      <td>145.206667</td>\n",
              "      <td>141.661667</td>\n",
              "    </tr>\n",
              "    <tr>\n",
              "      <th>2018-02-01</th>\n",
              "      <td>201.35</td>\n",
              "      <td>176.750000</td>\n",
              "      <td>202.718333</td>\n",
              "    </tr>\n",
              "    <tr>\n",
              "      <th>2018-03-01</th>\n",
              "      <td>202.91</td>\n",
              "      <td>206.696667</td>\n",
              "      <td>215.018333</td>\n",
              "    </tr>\n",
              "    <tr>\n",
              "      <th>2018-04-01</th>\n",
              "      <td>150.86</td>\n",
              "      <td>223.860000</td>\n",
              "      <td>213.125000</td>\n",
              "    </tr>\n",
              "    <tr>\n",
              "      <th>2018-05-01</th>\n",
              "      <td>163.07</td>\n",
              "      <td>185.040000</td>\n",
              "      <td>176.625000</td>\n",
              "    </tr>\n",
              "    <tr>\n",
              "      <th>2018-06-01</th>\n",
              "      <td>219.76</td>\n",
              "      <td>172.280000</td>\n",
              "      <td>165.640000</td>\n",
              "    </tr>\n",
              "    <tr>\n",
              "      <th>2018-07-01</th>\n",
              "      <td>283.98</td>\n",
              "      <td>177.896667</td>\n",
              "      <td>189.380000</td>\n",
              "    </tr>\n",
              "    <tr>\n",
              "      <th>2018-08-01</th>\n",
              "      <td>290.15</td>\n",
              "      <td>222.270000</td>\n",
              "      <td>242.421667</td>\n",
              "    </tr>\n",
              "    <tr>\n",
              "      <th>2018-09-01</th>\n",
              "      <td>257.96</td>\n",
              "      <td>264.630000</td>\n",
              "      <td>276.361667</td>\n",
              "    </tr>\n",
              "    <tr>\n",
              "      <th>2018-10-01</th>\n",
              "      <td>327.19</td>\n",
              "      <td>277.363333</td>\n",
              "      <td>273.026667</td>\n",
              "    </tr>\n",
              "    <tr>\n",
              "      <th>2018-11-01</th>\n",
              "      <td>193.49</td>\n",
              "      <td>291.766667</td>\n",
              "      <td>297.940000</td>\n",
              "    </tr>\n",
              "    <tr>\n",
              "      <th>2018-12-01</th>\n",
              "      <td>152.34</td>\n",
              "      <td>259.546667</td>\n",
              "      <td>248.801667</td>\n",
              "    </tr>\n",
              "  </tbody>\n",
              "</table>\n",
              "</div>"
            ],
            "text/plain": [
              "            Billed_amount  ma_rolling_3  wma_rolling_3\n",
              "Bill_Date                                             \n",
              "2016-01-01         247.73           NaN            NaN\n",
              "2016-02-01         234.11           NaN            NaN\n",
              "2016-03-01         123.85           NaN            NaN\n",
              "2016-04-01         111.22    201.896667     181.250000\n",
              "2016-05-01         118.37    156.393333     135.911667\n",
              "2016-06-01          77.81    117.813333     116.900000\n",
              "2016-07-01          86.67    102.466667      96.898333\n",
              "2016-08-01         122.40     94.283333      89.000000\n",
              "2016-09-01         223.62     95.626667     103.058333\n",
              "2016-10-01         152.54    144.230000     167.055000\n",
              "2016-11-01         150.54    166.186667     171.210000\n",
              "2016-12-01         244.37    175.566667     163.386667\n",
              "2017-01-01         263.64    182.483333     197.788333\n",
              "2017-02-01         214.32    219.516667     238.366667\n",
              "2017-03-01         151.54    240.776667     235.768333\n",
              "2017-04-01         118.79    209.833333     191.150000\n",
              "2017-05-01         153.18    161.550000     145.628333\n",
              "2017-06-01         212.08    141.170000     141.443333\n",
              "2017-07-01         281.19    161.350000     176.898333\n",
              "2017-08-01         237.97    215.483333     236.818333\n",
              "2017-09-01         284.30    243.746667     248.061667\n",
              "2017-10-01         172.69    267.820000     268.338333\n",
              "2017-11-01         111.51    231.653333     220.773333\n",
              "2017-12-01         151.42    189.500000     160.701667\n",
              "2018-01-01         267.32    145.206667     141.661667\n",
              "2018-02-01         201.35    176.750000     202.718333\n",
              "2018-03-01         202.91    206.696667     215.018333\n",
              "2018-04-01         150.86    223.860000     213.125000\n",
              "2018-05-01         163.07    185.040000     176.625000\n",
              "2018-06-01         219.76    172.280000     165.640000\n",
              "2018-07-01         283.98    177.896667     189.380000\n",
              "2018-08-01         290.15    222.270000     242.421667\n",
              "2018-09-01         257.96    264.630000     276.361667\n",
              "2018-10-01         327.19    277.363333     273.026667\n",
              "2018-11-01         193.49    291.766667     297.940000\n",
              "2018-12-01         152.34    259.546667     248.801667"
            ]
          },
          "metadata": {
            "tags": []
          },
          "execution_count": 53
        }
      ]
    },
    {
      "cell_type": "code",
      "metadata": {
        "id": "DBlVXvBQaGLU",
        "colab_type": "code",
        "colab": {
          "base_uri": "https://localhost:8080/",
          "height": 525
        },
        "outputId": "a13d96e7-9891-4d90-c8f9-ece4b8ed96ac"
      },
      "source": [
        "bill_2018.plot()"
      ],
      "execution_count": 54,
      "outputs": [
        {
          "output_type": "execute_result",
          "data": {
            "text/plain": [
              "<matplotlib.axes._subplots.AxesSubplot at 0x7f5b10ece2e8>"
            ]
          },
          "metadata": {
            "tags": []
          },
          "execution_count": 54
        },
        {
          "output_type": "display_data",
          "data": {
            "image/png": "[encoded data removed]",
            "text/plain": [
              "<Figure size 720x576 with 1 Axes>"
            ]
          },
          "metadata": {
            "tags": [],
            "needs_background": "light"
          }
        }
      ]
    },
    {
      "cell_type": "markdown",
      "metadata": {
        "id": "OjHcOxANyWiM",
        "colab_type": "text"
      },
      "source": [
        "Exponential moving average = (Close - previous EMA) * (2/(span+1)) + previous EMA\n"
      ]
    },
    {
      "cell_type": "code",
      "metadata": {
        "id": "q99o4C3Cgmwu",
        "colab_type": "code",
        "colab": {
          "base_uri": "https://localhost:8080/",
          "height": 665
        },
        "outputId": "dfb5fe2e-d160-4af8-d7f6-d501076d79af"
      },
      "source": [
        "bill_2018['Billed_amount'].ewm(span=3, adjust=False, min_periods=0).mean()"
      ],
      "execution_count": 55,
      "outputs": [
        {
          "output_type": "execute_result",
          "data": {
            "text/plain": [
              "Bill_Date\n",
              "2016-01-01    247.730000\n",
              "2016-02-01    240.920000\n",
              "2016-03-01    182.385000\n",
              "2016-04-01    146.802500\n",
              "2016-05-01    132.586250\n",
              "2016-06-01    105.198125\n",
              "2016-07-01     95.934063\n",
              "2016-08-01    109.167031\n",
              "2016-09-01    166.393516\n",
              "2016-10-01    159.466758\n",
              "2016-11-01    155.003379\n",
              "2016-12-01    199.686689\n",
              "2017-01-01    231.663345\n",
              "2017-02-01    222.991672\n",
              "2017-03-01    187.265836\n",
              "2017-04-01    153.027918\n",
              "2017-05-01    153.103959\n",
              "2017-06-01    182.591980\n",
              "2017-07-01    231.890990\n",
              "2017-08-01    234.930495\n",
              "2017-09-01    259.615247\n",
              "2017-10-01    216.152624\n",
              "2017-11-01    163.831312\n",
              "2017-12-01    157.625656\n",
              "2018-01-01    212.472828\n",
              "2018-02-01    206.911414\n",
              "2018-03-01    204.910707\n",
              "2018-04-01    177.885353\n",
              "2018-05-01    170.477677\n",
              "2018-06-01    195.118838\n",
              "2018-07-01    239.549419\n",
              "2018-08-01    264.849710\n",
              "2018-09-01    261.404855\n",
              "2018-10-01    294.297427\n",
              "2018-11-01    243.893714\n",
              "2018-12-01    198.116857\n",
              "Name: Billed_amount, dtype: float64"
            ]
          },
          "metadata": {
            "tags": []
          },
          "execution_count": 55
        }
      ]
    },
    {
      "cell_type": "code",
      "metadata": {
        "id": "hCDd1DWeguGC",
        "colab_type": "code",
        "colab": {}
      },
      "source": [
        "bill_2018['ewm_window_3']=bill_2018['Billed_amount'].ewm(span=3, adjust=False, min_periods=0).mean().shift(1)"
      ],
      "execution_count": 56,
      "outputs": []
    },
    {
      "cell_type": "code",
      "metadata": {
        "id": "kG6ZlZ4UguC7",
        "colab_type": "code",
        "colab": {
          "base_uri": "https://localhost:8080/",
          "height": 1000
        },
        "outputId": "e8eb6766-90a1-4a64-e572-c542f02250ff"
      },
      "source": [
        "bill_2018"
      ],
      "execution_count": 57,
      "outputs": [
        {
          "output_type": "execute_result",
          "data": {
            "text/html": [
              "<div>\n",
              "<style scoped>\n",
              "    .dataframe tbody tr th:only-of-type {\n",
              "        vertical-align: middle;\n",
              "    }\n",
              "\n",
              "    .dataframe tbody tr th {\n",
              "        vertical-align: top;\n",
              "    }\n",
              "\n",
              "    .dataframe thead th {\n",
              "        text-align: right;\n",
              "    }\n",
              "</style>\n",
              "<table border=\"1\" class=\"dataframe\">\n",
              "  <thead>\n",
              "    <tr style=\"text-align: right;\">\n",
              "      <th></th>\n",
              "      <th>Billed_amount</th>\n",
              "      <th>ma_rolling_3</th>\n",
              "      <th>wma_rolling_3</th>\n",
              "      <th>ewm_window_3</th>\n",
              "    </tr>\n",
              "    <tr>\n",
              "      <th>Bill_Date</th>\n",
              "      <th></th>\n",
              "      <th></th>\n",
              "      <th></th>\n",
              "      <th></th>\n",
              "    </tr>\n",
              "  </thead>\n",
              "  <tbody>\n",
              "    <tr>\n",
              "      <th>2016-01-01</th>\n",
              "      <td>247.73</td>\n",
              "      <td>NaN</td>\n",
              "      <td>NaN</td>\n",
              "      <td>NaN</td>\n",
              "    </tr>\n",
              "    <tr>\n",
              "      <th>2016-02-01</th>\n",
              "      <td>234.11</td>\n",
              "      <td>NaN</td>\n",
              "      <td>NaN</td>\n",
              "      <td>247.730000</td>\n",
              "    </tr>\n",
              "    <tr>\n",
              "      <th>2016-03-01</th>\n",
              "      <td>123.85</td>\n",
              "      <td>NaN</td>\n",
              "      <td>NaN</td>\n",
              "      <td>240.920000</td>\n",
              "    </tr>\n",
              "    <tr>\n",
              "      <th>2016-04-01</th>\n",
              "      <td>111.22</td>\n",
              "      <td>201.896667</td>\n",
              "      <td>181.250000</td>\n",
              "      <td>182.385000</td>\n",
              "    </tr>\n",
              "    <tr>\n",
              "      <th>2016-05-01</th>\n",
              "      <td>118.37</td>\n",
              "      <td>156.393333</td>\n",
              "      <td>135.911667</td>\n",
              "      <td>146.802500</td>\n",
              "    </tr>\n",
              "    <tr>\n",
              "      <th>2016-06-01</th>\n",
              "      <td>77.81</td>\n",
              "      <td>117.813333</td>\n",
              "      <td>116.900000</td>\n",
              "      <td>132.586250</td>\n",
              "    </tr>\n",
              "    <tr>\n",
              "      <th>2016-07-01</th>\n",
              "      <td>86.67</td>\n",
              "      <td>102.466667</td>\n",
              "      <td>96.898333</td>\n",
              "      <td>105.198125</td>\n",
              "    </tr>\n",
              "    <tr>\n",
              "      <th>2016-08-01</th>\n",
              "      <td>122.40</td>\n",
              "      <td>94.283333</td>\n",
              "      <td>89.000000</td>\n",
              "      <td>95.934063</td>\n",
              "    </tr>\n",
              "    <tr>\n",
              "      <th>2016-09-01</th>\n",
              "      <td>223.62</td>\n",
              "      <td>95.626667</td>\n",
              "      <td>103.058333</td>\n",
              "      <td>109.167031</td>\n",
              "    </tr>\n",
              "    <tr>\n",
              "      <th>2016-10-01</th>\n",
              "      <td>152.54</td>\n",
              "      <td>144.230000</td>\n",
              "      <td>167.055000</td>\n",
              "      <td>166.393516</td>\n",
              "    </tr>\n",
              "    <tr>\n",
              "      <th>2016-11-01</th>\n",
              "      <td>150.54</td>\n",
              "      <td>166.186667</td>\n",
              "      <td>171.210000</td>\n",
              "      <td>159.466758</td>\n",
              "    </tr>\n",
              "    <tr>\n",
              "      <th>2016-12-01</th>\n",
              "      <td>244.37</td>\n",
              "      <td>175.566667</td>\n",
              "      <td>163.386667</td>\n",
              "      <td>155.003379</td>\n",
              "    </tr>\n",
              "    <tr>\n",
              "      <th>2017-01-01</th>\n",
              "      <td>263.64</td>\n",
              "      <td>182.483333</td>\n",
              "      <td>197.788333</td>\n",
              "      <td>199.686689</td>\n",
              "    </tr>\n",
              "    <tr>\n",
              "      <th>2017-02-01</th>\n",
              "      <td>214.32</td>\n",
              "      <td>219.516667</td>\n",
              "      <td>238.366667</td>\n",
              "      <td>231.663345</td>\n",
              "    </tr>\n",
              "    <tr>\n",
              "      <th>2017-03-01</th>\n",
              "      <td>151.54</td>\n",
              "      <td>240.776667</td>\n",
              "      <td>235.768333</td>\n",
              "      <td>222.991672</td>\n",
              "    </tr>\n",
              "    <tr>\n",
              "      <th>2017-04-01</th>\n",
              "      <td>118.79</td>\n",
              "      <td>209.833333</td>\n",
              "      <td>191.150000</td>\n",
              "      <td>187.265836</td>\n",
              "    </tr>\n",
              "    <tr>\n",
              "      <th>2017-05-01</th>\n",
              "      <td>153.18</td>\n",
              "      <td>161.550000</td>\n",
              "      <td>145.628333</td>\n",
              "      <td>153.027918</td>\n",
              "    </tr>\n",
              "    <tr>\n",
              "      <th>2017-06-01</th>\n",
              "      <td>212.08</td>\n",
              "      <td>141.170000</td>\n",
              "      <td>141.443333</td>\n",
              "      <td>153.103959</td>\n",
              "    </tr>\n",
              "    <tr>\n",
              "      <th>2017-07-01</th>\n",
              "      <td>281.19</td>\n",
              "      <td>161.350000</td>\n",
              "      <td>176.898333</td>\n",
              "      <td>182.591980</td>\n",
              "    </tr>\n",
              "    <tr>\n",
              "      <th>2017-08-01</th>\n",
              "      <td>237.97</td>\n",
              "      <td>215.483333</td>\n",
              "      <td>236.818333</td>\n",
              "      <td>231.890990</td>\n",
              "    </tr>\n",
              "    <tr>\n",
              "      <th>2017-09-01</th>\n",
              "      <td>284.30</td>\n",
              "      <td>243.746667</td>\n",
              "      <td>248.061667</td>\n",
              "      <td>234.930495</td>\n",
              "    </tr>\n",
              "    <tr>\n",
              "      <th>2017-10-01</th>\n",
              "      <td>172.69</td>\n",
              "      <td>267.820000</td>\n",
              "      <td>268.338333</td>\n",
              "      <td>259.615247</td>\n",
              "    </tr>\n",
              "    <tr>\n",
              "      <th>2017-11-01</th>\n",
              "      <td>111.51</td>\n",
              "      <td>231.653333</td>\n",
              "      <td>220.773333</td>\n",
              "      <td>216.152624</td>\n",
              "    </tr>\n",
              "    <tr>\n",
              "      <th>2017-12-01</th>\n",
              "      <td>151.42</td>\n",
              "      <td>189.500000</td>\n",
              "      <td>160.701667</td>\n",
              "      <td>163.831312</td>\n",
              "    </tr>\n",
              "    <tr>\n",
              "      <th>2018-01-01</th>\n",
              "      <td>267.32</td>\n",
              "      <td>145.206667</td>\n",
              "      <td>141.661667</td>\n",
              "      <td>157.625656</td>\n",
              "    </tr>\n",
              "    <tr>\n",
              "      <th>2018-02-01</th>\n",
              "      <td>201.35</td>\n",
              "      <td>176.750000</td>\n",
              "      <td>202.718333</td>\n",
              "      <td>212.472828</td>\n",
              "    </tr>\n",
              "    <tr>\n",
              "      <th>2018-03-01</th>\n",
              "      <td>202.91</td>\n",
              "      <td>206.696667</td>\n",
              "      <td>215.018333</td>\n",
              "      <td>206.911414</td>\n",
              "    </tr>\n",
              "    <tr>\n",
              "      <th>2018-04-01</th>\n",
              "      <td>150.86</td>\n",
              "      <td>223.860000</td>\n",
              "      <td>213.125000</td>\n",
              "      <td>204.910707</td>\n",
              "    </tr>\n",
              "    <tr>\n",
              "      <th>2018-05-01</th>\n",
              "      <td>163.07</td>\n",
              "      <td>185.040000</td>\n",
              "      <td>176.625000</td>\n",
              "      <td>177.885353</td>\n",
              "    </tr>\n",
              "    <tr>\n",
              "      <th>2018-06-01</th>\n",
              "      <td>219.76</td>\n",
              "      <td>172.280000</td>\n",
              "      <td>165.640000</td>\n",
              "      <td>170.477677</td>\n",
              "    </tr>\n",
              "    <tr>\n",
              "      <th>2018-07-01</th>\n",
              "      <td>283.98</td>\n",
              "      <td>177.896667</td>\n",
              "      <td>189.380000</td>\n",
              "      <td>195.118838</td>\n",
              "    </tr>\n",
              "    <tr>\n",
              "      <th>2018-08-01</th>\n",
              "      <td>290.15</td>\n",
              "      <td>222.270000</td>\n",
              "      <td>242.421667</td>\n",
              "      <td>239.549419</td>\n",
              "    </tr>\n",
              "    <tr>\n",
              "      <th>2018-09-01</th>\n",
              "      <td>257.96</td>\n",
              "      <td>264.630000</td>\n",
              "      <td>276.361667</td>\n",
              "      <td>264.849710</td>\n",
              "    </tr>\n",
              "    <tr>\n",
              "      <th>2018-10-01</th>\n",
              "      <td>327.19</td>\n",
              "      <td>277.363333</td>\n",
              "      <td>273.026667</td>\n",
              "      <td>261.404855</td>\n",
              "    </tr>\n",
              "    <tr>\n",
              "      <th>2018-11-01</th>\n",
              "      <td>193.49</td>\n",
              "      <td>291.766667</td>\n",
              "      <td>297.940000</td>\n",
              "      <td>294.297427</td>\n",
              "    </tr>\n",
              "    <tr>\n",
              "      <th>2018-12-01</th>\n",
              "      <td>152.34</td>\n",
              "      <td>259.546667</td>\n",
              "      <td>248.801667</td>\n",
              "      <td>243.893714</td>\n",
              "    </tr>\n",
              "  </tbody>\n",
              "</table>\n",
              "</div>"
            ],
            "text/plain": [
              "            Billed_amount  ma_rolling_3  wma_rolling_3  ewm_window_3\n",
              "Bill_Date                                                           \n",
              "2016-01-01         247.73           NaN            NaN           NaN\n",
              "2016-02-01         234.11           NaN            NaN    247.730000\n",
              "2016-03-01         123.85           NaN            NaN    240.920000\n",
              "2016-04-01         111.22    201.896667     181.250000    182.385000\n",
              "2016-05-01         118.37    156.393333     135.911667    146.802500\n",
              "2016-06-01          77.81    117.813333     116.900000    132.586250\n",
              "2016-07-01          86.67    102.466667      96.898333    105.198125\n",
              "2016-08-01         122.40     94.283333      89.000000     95.934063\n",
              "2016-09-01         223.62     95.626667     103.058333    109.167031\n",
              "2016-10-01         152.54    144.230000     167.055000    166.393516\n",
              "2016-11-01         150.54    166.186667     171.210000    159.466758\n",
              "2016-12-01         244.37    175.566667     163.386667    155.003379\n",
              "2017-01-01         263.64    182.483333     197.788333    199.686689\n",
              "2017-02-01         214.32    219.516667     238.366667    231.663345\n",
              "2017-03-01         151.54    240.776667     235.768333    222.991672\n",
              "2017-04-01         118.79    209.833333     191.150000    187.265836\n",
              "2017-05-01         153.18    161.550000     145.628333    153.027918\n",
              "2017-06-01         212.08    141.170000     141.443333    153.103959\n",
              "2017-07-01         281.19    161.350000     176.898333    182.591980\n",
              "2017-08-01         237.97    215.483333     236.818333    231.890990\n",
              "2017-09-01         284.30    243.746667     248.061667    234.930495\n",
              "2017-10-01         172.69    267.820000     268.338333    259.615247\n",
              "2017-11-01         111.51    231.653333     220.773333    216.152624\n",
              "2017-12-01         151.42    189.500000     160.701667    163.831312\n",
              "2018-01-01         267.32    145.206667     141.661667    157.625656\n",
              "2018-02-01         201.35    176.750000     202.718333    212.472828\n",
              "2018-03-01         202.91    206.696667     215.018333    206.911414\n",
              "2018-04-01         150.86    223.860000     213.125000    204.910707\n",
              "2018-05-01         163.07    185.040000     176.625000    177.885353\n",
              "2018-06-01         219.76    172.280000     165.640000    170.477677\n",
              "2018-07-01         283.98    177.896667     189.380000    195.118838\n",
              "2018-08-01         290.15    222.270000     242.421667    239.549419\n",
              "2018-09-01         257.96    264.630000     276.361667    264.849710\n",
              "2018-10-01         327.19    277.363333     273.026667    261.404855\n",
              "2018-11-01         193.49    291.766667     297.940000    294.297427\n",
              "2018-12-01         152.34    259.546667     248.801667    243.893714"
            ]
          },
          "metadata": {
            "tags": []
          },
          "execution_count": 57
        }
      ]
    },
    {
      "cell_type": "code",
      "metadata": {
        "id": "9VAuv52jgt9K",
        "colab_type": "code",
        "colab": {
          "base_uri": "https://localhost:8080/",
          "height": 525
        },
        "outputId": "08c3f979-e1ac-4839-e800-391fbe057021"
      },
      "source": [
        "bill_2018.plot()"
      ],
      "execution_count": 58,
      "outputs": [
        {
          "output_type": "execute_result",
          "data": {
            "text/plain": [
              "<matplotlib.axes._subplots.AxesSubplot at 0x7f5b10d71208>"
            ]
          },
          "metadata": {
            "tags": []
          },
          "execution_count": 58
        },
        {
          "output_type": "display_data",
          "data": {
            "image/png": "[encoded data removed]",
            "text/plain": [
              "<Figure size 720x576 with 1 Axes>"
            ]
          },
          "metadata": {
            "tags": [],
            "needs_background": "light"
          }
        }
      ]
    },
    {
      "cell_type": "markdown",
      "metadata": {
        "id": "dKpz4jS5ESTR",
        "colab_type": "text"
      },
      "source": [
        "Exponential Smoothing - "
      ]
    },
    {
      "cell_type": "markdown",
      "metadata": {
        "id": "p66z2la9Xmqv",
        "colab_type": "text"
      },
      "source": [
        "![alt text](https://people.duke.edu/~rnau/411avg_files/image028.png)"
      ]
    },
    {
      "cell_type": "code",
      "metadata": {
        "id": "NvObBoi3_eNz",
        "colab_type": "code",
        "colab": {
          "base_uri": "https://localhost:8080/",
          "height": 665
        },
        "outputId": "7cfa37c7-03cc-4700-d95b-8094ab3c8557"
      },
      "source": [
        "bill_2018['Billed_amount'].ewm(alpha=0.7, adjust=False, min_periods=3).mean()"
      ],
      "execution_count": 59,
      "outputs": [
        {
          "output_type": "execute_result",
          "data": {
            "text/plain": [
              "Bill_Date\n",
              "2016-01-01           NaN\n",
              "2016-02-01           NaN\n",
              "2016-03-01    158.153800\n",
              "2016-04-01    125.300140\n",
              "2016-05-01    120.449042\n",
              "2016-06-01     90.601713\n",
              "2016-07-01     87.849514\n",
              "2016-08-01    112.034854\n",
              "2016-09-01    190.144456\n",
              "2016-10-01    163.821337\n",
              "2016-11-01    154.524401\n",
              "2016-12-01    217.416320\n",
              "2017-01-01    249.772896\n",
              "2017-02-01    224.955869\n",
              "2017-03-01    173.564761\n",
              "2017-04-01    135.222428\n",
              "2017-05-01    147.792728\n",
              "2017-06-01    192.793819\n",
              "2017-07-01    254.671146\n",
              "2017-08-01    242.980344\n",
              "2017-09-01    271.904103\n",
              "2017-10-01    202.454231\n",
              "2017-11-01    138.793269\n",
              "2017-12-01    147.631981\n",
              "2018-01-01    231.413594\n",
              "2018-02-01    210.369078\n",
              "2018-03-01    205.147723\n",
              "2018-04-01    167.146317\n",
              "2018-05-01    164.292895\n",
              "2018-06-01    203.119869\n",
              "2018-07-01    259.721961\n",
              "2018-08-01    281.021588\n",
              "2018-09-01    264.878476\n",
              "2018-10-01    308.496543\n",
              "2018-11-01    227.991963\n",
              "2018-12-01    175.035589\n",
              "Name: Billed_amount, dtype: float64"
            ]
          },
          "metadata": {
            "tags": []
          },
          "execution_count": 59
        }
      ]
    },
    {
      "cell_type": "code",
      "metadata": {
        "id": "QOXhMIhH_eLm",
        "colab_type": "code",
        "colab": {}
      },
      "source": [
        "bill_2018['esm_window_3_7']=bill_2018['Billed_amount'].ewm(alpha=0.7, adjust=False,min_periods=3).mean().shift(1)"
      ],
      "execution_count": 60,
      "outputs": []
    },
    {
      "cell_type": "code",
      "metadata": {
        "id": "LD8mhtOx_eHx",
        "colab_type": "code",
        "colab": {
          "base_uri": "https://localhost:8080/",
          "height": 1000
        },
        "outputId": "2d72ce4e-a944-43f9-fc63-65cefe6d93fc"
      },
      "source": [
        "bill_2018"
      ],
      "execution_count": 61,
      "outputs": [
        {
          "output_type": "execute_result",
          "data": {
            "text/html": [
              "<div>\n",
              "<style scoped>\n",
              "    .dataframe tbody tr th:only-of-type {\n",
              "        vertical-align: middle;\n",
              "    }\n",
              "\n",
              "    .dataframe tbody tr th {\n",
              "        vertical-align: top;\n",
              "    }\n",
              "\n",
              "    .dataframe thead th {\n",
              "        text-align: right;\n",
              "    }\n",
              "</style>\n",
              "<table border=\"1\" class=\"dataframe\">\n",
              "  <thead>\n",
              "    <tr style=\"text-align: right;\">\n",
              "      <th></th>\n",
              "      <th>Billed_amount</th>\n",
              "      <th>ma_rolling_3</th>\n",
              "      <th>wma_rolling_3</th>\n",
              "      <th>ewm_window_3</th>\n",
              "      <th>esm_window_3_7</th>\n",
              "    </tr>\n",
              "    <tr>\n",
              "      <th>Bill_Date</th>\n",
              "      <th></th>\n",
              "      <th></th>\n",
              "      <th></th>\n",
              "      <th></th>\n",
              "      <th></th>\n",
              "    </tr>\n",
              "  </thead>\n",
              "  <tbody>\n",
              "    <tr>\n",
              "      <th>2016-01-01</th>\n",
              "      <td>247.73</td>\n",
              "      <td>NaN</td>\n",
              "      <td>NaN</td>\n",
              "      <td>NaN</td>\n",
              "      <td>NaN</td>\n",
              "    </tr>\n",
              "    <tr>\n",
              "      <th>2016-02-01</th>\n",
              "      <td>234.11</td>\n",
              "      <td>NaN</td>\n",
              "      <td>NaN</td>\n",
              "      <td>247.730000</td>\n",
              "      <td>NaN</td>\n",
              "    </tr>\n",
              "    <tr>\n",
              "      <th>2016-03-01</th>\n",
              "      <td>123.85</td>\n",
              "      <td>NaN</td>\n",
              "      <td>NaN</td>\n",
              "      <td>240.920000</td>\n",
              "      <td>NaN</td>\n",
              "    </tr>\n",
              "    <tr>\n",
              "      <th>2016-04-01</th>\n",
              "      <td>111.22</td>\n",
              "      <td>201.896667</td>\n",
              "      <td>181.250000</td>\n",
              "      <td>182.385000</td>\n",
              "      <td>158.153800</td>\n",
              "    </tr>\n",
              "    <tr>\n",
              "      <th>2016-05-01</th>\n",
              "      <td>118.37</td>\n",
              "      <td>156.393333</td>\n",
              "      <td>135.911667</td>\n",
              "      <td>146.802500</td>\n",
              "      <td>125.300140</td>\n",
              "    </tr>\n",
              "    <tr>\n",
              "      <th>2016-06-01</th>\n",
              "      <td>77.81</td>\n",
              "      <td>117.813333</td>\n",
              "      <td>116.900000</td>\n",
              "      <td>132.586250</td>\n",
              "      <td>120.449042</td>\n",
              "    </tr>\n",
              "    <tr>\n",
              "      <th>2016-07-01</th>\n",
              "      <td>86.67</td>\n",
              "      <td>102.466667</td>\n",
              "      <td>96.898333</td>\n",
              "      <td>105.198125</td>\n",
              "      <td>90.601713</td>\n",
              "    </tr>\n",
              "    <tr>\n",
              "      <th>2016-08-01</th>\n",
              "      <td>122.40</td>\n",
              "      <td>94.283333</td>\n",
              "      <td>89.000000</td>\n",
              "      <td>95.934063</td>\n",
              "      <td>87.849514</td>\n",
              "    </tr>\n",
              "    <tr>\n",
              "      <th>2016-09-01</th>\n",
              "      <td>223.62</td>\n",
              "      <td>95.626667</td>\n",
              "      <td>103.058333</td>\n",
              "      <td>109.167031</td>\n",
              "      <td>112.034854</td>\n",
              "    </tr>\n",
              "    <tr>\n",
              "      <th>2016-10-01</th>\n",
              "      <td>152.54</td>\n",
              "      <td>144.230000</td>\n",
              "      <td>167.055000</td>\n",
              "      <td>166.393516</td>\n",
              "      <td>190.144456</td>\n",
              "    </tr>\n",
              "    <tr>\n",
              "      <th>2016-11-01</th>\n",
              "      <td>150.54</td>\n",
              "      <td>166.186667</td>\n",
              "      <td>171.210000</td>\n",
              "      <td>159.466758</td>\n",
              "      <td>163.821337</td>\n",
              "    </tr>\n",
              "    <tr>\n",
              "      <th>2016-12-01</th>\n",
              "      <td>244.37</td>\n",
              "      <td>175.566667</td>\n",
              "      <td>163.386667</td>\n",
              "      <td>155.003379</td>\n",
              "      <td>154.524401</td>\n",
              "    </tr>\n",
              "    <tr>\n",
              "      <th>2017-01-01</th>\n",
              "      <td>263.64</td>\n",
              "      <td>182.483333</td>\n",
              "      <td>197.788333</td>\n",
              "      <td>199.686689</td>\n",
              "      <td>217.416320</td>\n",
              "    </tr>\n",
              "    <tr>\n",
              "      <th>2017-02-01</th>\n",
              "      <td>214.32</td>\n",
              "      <td>219.516667</td>\n",
              "      <td>238.366667</td>\n",
              "      <td>231.663345</td>\n",
              "      <td>249.772896</td>\n",
              "    </tr>\n",
              "    <tr>\n",
              "      <th>2017-03-01</th>\n",
              "      <td>151.54</td>\n",
              "      <td>240.776667</td>\n",
              "      <td>235.768333</td>\n",
              "      <td>222.991672</td>\n",
              "      <td>224.955869</td>\n",
              "    </tr>\n",
              "    <tr>\n",
              "      <th>2017-04-01</th>\n",
              "      <td>118.79</td>\n",
              "      <td>209.833333</td>\n",
              "      <td>191.150000</td>\n",
              "      <td>187.265836</td>\n",
              "      <td>173.564761</td>\n",
              "    </tr>\n",
              "    <tr>\n",
              "      <th>2017-05-01</th>\n",
              "      <td>153.18</td>\n",
              "      <td>161.550000</td>\n",
              "      <td>145.628333</td>\n",
              "      <td>153.027918</td>\n",
              "      <td>135.222428</td>\n",
              "    </tr>\n",
              "    <tr>\n",
              "      <th>2017-06-01</th>\n",
              "      <td>212.08</td>\n",
              "      <td>141.170000</td>\n",
              "      <td>141.443333</td>\n",
              "      <td>153.103959</td>\n",
              "      <td>147.792728</td>\n",
              "    </tr>\n",
              "    <tr>\n",
              "      <th>2017-07-01</th>\n",
              "      <td>281.19</td>\n",
              "      <td>161.350000</td>\n",
              "      <td>176.898333</td>\n",
              "      <td>182.591980</td>\n",
              "      <td>192.793819</td>\n",
              "    </tr>\n",
              "    <tr>\n",
              "      <th>2017-08-01</th>\n",
              "      <td>237.97</td>\n",
              "      <td>215.483333</td>\n",
              "      <td>236.818333</td>\n",
              "      <td>231.890990</td>\n",
              "      <td>254.671146</td>\n",
              "    </tr>\n",
              "    <tr>\n",
              "      <th>2017-09-01</th>\n",
              "      <td>284.30</td>\n",
              "      <td>243.746667</td>\n",
              "      <td>248.061667</td>\n",
              "      <td>234.930495</td>\n",
              "      <td>242.980344</td>\n",
              "    </tr>\n",
              "    <tr>\n",
              "      <th>2017-10-01</th>\n",
              "      <td>172.69</td>\n",
              "      <td>267.820000</td>\n",
              "      <td>268.338333</td>\n",
              "      <td>259.615247</td>\n",
              "      <td>271.904103</td>\n",
              "    </tr>\n",
              "    <tr>\n",
              "      <th>2017-11-01</th>\n",
              "      <td>111.51</td>\n",
              "      <td>231.653333</td>\n",
              "      <td>220.773333</td>\n",
              "      <td>216.152624</td>\n",
              "      <td>202.454231</td>\n",
              "    </tr>\n",
              "    <tr>\n",
              "      <th>2017-12-01</th>\n",
              "      <td>151.42</td>\n",
              "      <td>189.500000</td>\n",
              "      <td>160.701667</td>\n",
              "      <td>163.831312</td>\n",
              "      <td>138.793269</td>\n",
              "    </tr>\n",
              "    <tr>\n",
              "      <th>2018-01-01</th>\n",
              "      <td>267.32</td>\n",
              "      <td>145.206667</td>\n",
              "      <td>141.661667</td>\n",
              "      <td>157.625656</td>\n",
              "      <td>147.631981</td>\n",
              "    </tr>\n",
              "    <tr>\n",
              "      <th>2018-02-01</th>\n",
              "      <td>201.35</td>\n",
              "      <td>176.750000</td>\n",
              "      <td>202.718333</td>\n",
              "      <td>212.472828</td>\n",
              "      <td>231.413594</td>\n",
              "    </tr>\n",
              "    <tr>\n",
              "      <th>2018-03-01</th>\n",
              "      <td>202.91</td>\n",
              "      <td>206.696667</td>\n",
              "      <td>215.018333</td>\n",
              "      <td>206.911414</td>\n",
              "      <td>210.369078</td>\n",
              "    </tr>\n",
              "    <tr>\n",
              "      <th>2018-04-01</th>\n",
              "      <td>150.86</td>\n",
              "      <td>223.860000</td>\n",
              "      <td>213.125000</td>\n",
              "      <td>204.910707</td>\n",
              "      <td>205.147723</td>\n",
              "    </tr>\n",
              "    <tr>\n",
              "      <th>2018-05-01</th>\n",
              "      <td>163.07</td>\n",
              "      <td>185.040000</td>\n",
              "      <td>176.625000</td>\n",
              "      <td>177.885353</td>\n",
              "      <td>167.146317</td>\n",
              "    </tr>\n",
              "    <tr>\n",
              "      <th>2018-06-01</th>\n",
              "      <td>219.76</td>\n",
              "      <td>172.280000</td>\n",
              "      <td>165.640000</td>\n",
              "      <td>170.477677</td>\n",
              "      <td>164.292895</td>\n",
              "    </tr>\n",
              "    <tr>\n",
              "      <th>2018-07-01</th>\n",
              "      <td>283.98</td>\n",
              "      <td>177.896667</td>\n",
              "      <td>189.380000</td>\n",
              "      <td>195.118838</td>\n",
              "      <td>203.119869</td>\n",
              "    </tr>\n",
              "    <tr>\n",
              "      <th>2018-08-01</th>\n",
              "      <td>290.15</td>\n",
              "      <td>222.270000</td>\n",
              "      <td>242.421667</td>\n",
              "      <td>239.549419</td>\n",
              "      <td>259.721961</td>\n",
              "    </tr>\n",
              "    <tr>\n",
              "      <th>2018-09-01</th>\n",
              "      <td>257.96</td>\n",
              "      <td>264.630000</td>\n",
              "      <td>276.361667</td>\n",
              "      <td>264.849710</td>\n",
              "      <td>281.021588</td>\n",
              "    </tr>\n",
              "    <tr>\n",
              "      <th>2018-10-01</th>\n",
              "      <td>327.19</td>\n",
              "      <td>277.363333</td>\n",
              "      <td>273.026667</td>\n",
              "      <td>261.404855</td>\n",
              "      <td>264.878476</td>\n",
              "    </tr>\n",
              "    <tr>\n",
              "      <th>2018-11-01</th>\n",
              "      <td>193.49</td>\n",
              "      <td>291.766667</td>\n",
              "      <td>297.940000</td>\n",
              "      <td>294.297427</td>\n",
              "      <td>308.496543</td>\n",
              "    </tr>\n",
              "    <tr>\n",
              "      <th>2018-12-01</th>\n",
              "      <td>152.34</td>\n",
              "      <td>259.546667</td>\n",
              "      <td>248.801667</td>\n",
              "      <td>243.893714</td>\n",
              "      <td>227.991963</td>\n",
              "    </tr>\n",
              "  </tbody>\n",
              "</table>\n",
              "</div>"
            ],
            "text/plain": [
              "            Billed_amount  ma_rolling_3  ...  ewm_window_3  esm_window_3_7\n",
              "Bill_Date                                ...                              \n",
              "2016-01-01         247.73           NaN  ...           NaN             NaN\n",
              "2016-02-01         234.11           NaN  ...    247.730000             NaN\n",
              "2016-03-01         123.85           NaN  ...    240.920000             NaN\n",
              "2016-04-01         111.22    201.896667  ...    182.385000      158.153800\n",
              "2016-05-01         118.37    156.393333  ...    146.802500      125.300140\n",
              "2016-06-01          77.81    117.813333  ...    132.586250      120.449042\n",
              "2016-07-01          86.67    102.466667  ...    105.198125       90.601713\n",
              "2016-08-01         122.40     94.283333  ...     95.934063       87.849514\n",
              "2016-09-01         223.62     95.626667  ...    109.167031      112.034854\n",
              "2016-10-01         152.54    144.230000  ...    166.393516      190.144456\n",
              "2016-11-01         150.54    166.186667  ...    159.466758      163.821337\n",
              "2016-12-01         244.37    175.566667  ...    155.003379      154.524401\n",
              "2017-01-01         263.64    182.483333  ...    199.686689      217.416320\n",
              "2017-02-01         214.32    219.516667  ...    231.663345      249.772896\n",
              "2017-03-01         151.54    240.776667  ...    222.991672      224.955869\n",
              "2017-04-01         118.79    209.833333  ...    187.265836      173.564761\n",
              "2017-05-01         153.18    161.550000  ...    153.027918      135.222428\n",
              "2017-06-01         212.08    141.170000  ...    153.103959      147.792728\n",
              "2017-07-01         281.19    161.350000  ...    182.591980      192.793819\n",
              "2017-08-01         237.97    215.483333  ...    231.890990      254.671146\n",
              "2017-09-01         284.30    243.746667  ...    234.930495      242.980344\n",
              "2017-10-01         172.69    267.820000  ...    259.615247      271.904103\n",
              "2017-11-01         111.51    231.653333  ...    216.152624      202.454231\n",
              "2017-12-01         151.42    189.500000  ...    163.831312      138.793269\n",
              "2018-01-01         267.32    145.206667  ...    157.625656      147.631981\n",
              "2018-02-01         201.35    176.750000  ...    212.472828      231.413594\n",
              "2018-03-01         202.91    206.696667  ...    206.911414      210.369078\n",
              "2018-04-01         150.86    223.860000  ...    204.910707      205.147723\n",
              "2018-05-01         163.07    185.040000  ...    177.885353      167.146317\n",
              "2018-06-01         219.76    172.280000  ...    170.477677      164.292895\n",
              "2018-07-01         283.98    177.896667  ...    195.118838      203.119869\n",
              "2018-08-01         290.15    222.270000  ...    239.549419      259.721961\n",
              "2018-09-01         257.96    264.630000  ...    264.849710      281.021588\n",
              "2018-10-01         327.19    277.363333  ...    261.404855      264.878476\n",
              "2018-11-01         193.49    291.766667  ...    294.297427      308.496543\n",
              "2018-12-01         152.34    259.546667  ...    243.893714      227.991963\n",
              "\n",
              "[36 rows x 5 columns]"
            ]
          },
          "metadata": {
            "tags": []
          },
          "execution_count": 61
        }
      ]
    },
    {
      "cell_type": "code",
      "metadata": {
        "id": "e5mQAAKx_eFY",
        "colab_type": "code",
        "colab": {
          "base_uri": "https://localhost:8080/",
          "height": 525
        },
        "outputId": "33385841-011e-4cb6-81d0-c4c2076b3c98"
      },
      "source": [
        "bill_2018[['Billed_amount','esm_window_3_7']].plot()"
      ],
      "execution_count": 62,
      "outputs": [
        {
          "output_type": "execute_result",
          "data": {
            "text/plain": [
              "<matplotlib.axes._subplots.AxesSubplot at 0x7f5b10d79c18>"
            ]
          },
          "metadata": {
            "tags": []
          },
          "execution_count": 62
        },
        {
          "output_type": "display_data",
          "data": {
            "image/png": "[encoded data removed]",
            "text/plain": [
              "<Figure size 720x576 with 1 Axes>"
            ]
          },
          "metadata": {
            "tags": [],
            "needs_background": "light"
          }
        }
      ]
    },
    {
      "cell_type": "code",
      "metadata": {
        "id": "b8rRNAbrfcWu",
        "colab_type": "code",
        "colab": {
          "base_uri": "https://localhost:8080/",
          "height": 525
        },
        "outputId": "e3870c8a-bea1-4bc9-c2bc-4226a6d4633c"
      },
      "source": [
        "bill_2018.plot()"
      ],
      "execution_count": 63,
      "outputs": [
        {
          "output_type": "execute_result",
          "data": {
            "text/plain": [
              "<matplotlib.axes._subplots.AxesSubplot at 0x7f5b10e56080>"
            ]
          },
          "metadata": {
            "tags": []
          },
          "execution_count": 63
        },
        {
          "output_type": "display_data",
          "data": {
            "image/png": "[encoded data removed]",
            "text/plain": [
              "<Figure size 720x576 with 1 Axes>"
            ]
          },
          "metadata": {
            "tags": [],
            "needs_background": "light"
          }
        }
      ]
    },
    {
      "cell_type": "code",
      "metadata": {
        "id": "uCttA7EM_eCg",
        "colab_type": "code",
        "colab": {
          "base_uri": "https://localhost:8080/",
          "height": 665
        },
        "outputId": "7fd7fac6-9489-482c-e3ff-b8a1a1c1e9e5"
      },
      "source": [
        "bill_2018['Billed_amount'].ewm(alpha=0.3, adjust=False, min_periods=3).mean()"
      ],
      "execution_count": 64,
      "outputs": [
        {
          "output_type": "execute_result",
          "data": {
            "text/plain": [
              "Bill_Date\n",
              "2016-01-01           NaN\n",
              "2016-02-01           NaN\n",
              "2016-03-01    207.705800\n",
              "2016-04-01    178.760060\n",
              "2016-05-01    160.643042\n",
              "2016-06-01    135.793129\n",
              "2016-07-01    121.056191\n",
              "2016-08-01    121.459333\n",
              "2016-09-01    152.107533\n",
              "2016-10-01    152.237273\n",
              "2016-11-01    151.728091\n",
              "2016-12-01    179.520664\n",
              "2017-01-01    204.756465\n",
              "2017-02-01    207.625525\n",
              "2017-03-01    190.799868\n",
              "2017-04-01    169.196907\n",
              "2017-05-01    164.391835\n",
              "2017-06-01    178.698285\n",
              "2017-07-01    209.445799\n",
              "2017-08-01    218.003059\n",
              "2017-09-01    237.892142\n",
              "2017-10-01    218.331499\n",
              "2017-11-01    186.285049\n",
              "2017-12-01    175.825535\n",
              "2018-01-01    203.273874\n",
              "2018-02-01    202.696712\n",
              "2018-03-01    202.760698\n",
              "2018-04-01    187.190489\n",
              "2018-05-01    179.954342\n",
              "2018-06-01    191.896040\n",
              "2018-07-01    219.521228\n",
              "2018-08-01    240.709859\n",
              "2018-09-01    245.884902\n",
              "2018-10-01    270.276431\n",
              "2018-11-01    247.240502\n",
              "2018-12-01    218.770351\n",
              "Name: Billed_amount, dtype: float64"
            ]
          },
          "metadata": {
            "tags": []
          },
          "execution_count": 64
        }
      ]
    },
    {
      "cell_type": "code",
      "metadata": {
        "id": "rNmsEDBw_d_s",
        "colab_type": "code",
        "colab": {}
      },
      "source": [
        "bill_2018['esm_window_3_3']=bill_2018['Billed_amount'].ewm(alpha=0.3, adjust=False,min_periods=3).mean().shift(1)"
      ],
      "execution_count": 65,
      "outputs": []
    },
    {
      "cell_type": "code",
      "metadata": {
        "id": "vyFxXg_U_d8q",
        "colab_type": "code",
        "colab": {
          "base_uri": "https://localhost:8080/",
          "height": 1000
        },
        "outputId": "6758fb9f-62c4-4f78-8f8a-5c622d7e2b1c"
      },
      "source": [
        "bill_2018"
      ],
      "execution_count": 66,
      "outputs": [
        {
          "output_type": "execute_result",
          "data": {
            "text/html": [
              "<div>\n",
              "<style scoped>\n",
              "    .dataframe tbody tr th:only-of-type {\n",
              "        vertical-align: middle;\n",
              "    }\n",
              "\n",
              "    .dataframe tbody tr th {\n",
              "        vertical-align: top;\n",
              "    }\n",
              "\n",
              "    .dataframe thead th {\n",
              "        text-align: right;\n",
              "    }\n",
              "</style>\n",
              "<table border=\"1\" class=\"dataframe\">\n",
              "  <thead>\n",
              "    <tr style=\"text-align: right;\">\n",
              "      <th></th>\n",
              "      <th>Billed_amount</th>\n",
              "      <th>ma_rolling_3</th>\n",
              "      <th>wma_rolling_3</th>\n",
              "      <th>ewm_window_3</th>\n",
              "      <th>esm_window_3_7</th>\n",
              "      <th>esm_window_3_3</th>\n",
              "    </tr>\n",
              "    <tr>\n",
              "      <th>Bill_Date</th>\n",
              "      <th></th>\n",
              "      <th></th>\n",
              "      <th></th>\n",
              "      <th></th>\n",
              "      <th></th>\n",
              "      <th></th>\n",
              "    </tr>\n",
              "  </thead>\n",
              "  <tbody>\n",
              "    <tr>\n",
              "      <th>2016-01-01</th>\n",
              "      <td>247.73</td>\n",
              "      <td>NaN</td>\n",
              "      <td>NaN</td>\n",
              "      <td>NaN</td>\n",
              "      <td>NaN</td>\n",
              "      <td>NaN</td>\n",
              "    </tr>\n",
              "    <tr>\n",
              "      <th>2016-02-01</th>\n",
              "      <td>234.11</td>\n",
              "      <td>NaN</td>\n",
              "      <td>NaN</td>\n",
              "      <td>247.730000</td>\n",
              "      <td>NaN</td>\n",
              "      <td>NaN</td>\n",
              "    </tr>\n",
              "    <tr>\n",
              "      <th>2016-03-01</th>\n",
              "      <td>123.85</td>\n",
              "      <td>NaN</td>\n",
              "      <td>NaN</td>\n",
              "      <td>240.920000</td>\n",
              "      <td>NaN</td>\n",
              "      <td>NaN</td>\n",
              "    </tr>\n",
              "    <tr>\n",
              "      <th>2016-04-01</th>\n",
              "      <td>111.22</td>\n",
              "      <td>201.896667</td>\n",
              "      <td>181.250000</td>\n",
              "      <td>182.385000</td>\n",
              "      <td>158.153800</td>\n",
              "      <td>207.705800</td>\n",
              "    </tr>\n",
              "    <tr>\n",
              "      <th>2016-05-01</th>\n",
              "      <td>118.37</td>\n",
              "      <td>156.393333</td>\n",
              "      <td>135.911667</td>\n",
              "      <td>146.802500</td>\n",
              "      <td>125.300140</td>\n",
              "      <td>178.760060</td>\n",
              "    </tr>\n",
              "    <tr>\n",
              "      <th>2016-06-01</th>\n",
              "      <td>77.81</td>\n",
              "      <td>117.813333</td>\n",
              "      <td>116.900000</td>\n",
              "      <td>132.586250</td>\n",
              "      <td>120.449042</td>\n",
              "      <td>160.643042</td>\n",
              "    </tr>\n",
              "    <tr>\n",
              "      <th>2016-07-01</th>\n",
              "      <td>86.67</td>\n",
              "      <td>102.466667</td>\n",
              "      <td>96.898333</td>\n",
              "      <td>105.198125</td>\n",
              "      <td>90.601713</td>\n",
              "      <td>135.793129</td>\n",
              "    </tr>\n",
              "    <tr>\n",
              "      <th>2016-08-01</th>\n",
              "      <td>122.40</td>\n",
              "      <td>94.283333</td>\n",
              "      <td>89.000000</td>\n",
              "      <td>95.934063</td>\n",
              "      <td>87.849514</td>\n",
              "      <td>121.056191</td>\n",
              "    </tr>\n",
              "    <tr>\n",
              "      <th>2016-09-01</th>\n",
              "      <td>223.62</td>\n",
              "      <td>95.626667</td>\n",
              "      <td>103.058333</td>\n",
              "      <td>109.167031</td>\n",
              "      <td>112.034854</td>\n",
              "      <td>121.459333</td>\n",
              "    </tr>\n",
              "    <tr>\n",
              "      <th>2016-10-01</th>\n",
              "      <td>152.54</td>\n",
              "      <td>144.230000</td>\n",
              "      <td>167.055000</td>\n",
              "      <td>166.393516</td>\n",
              "      <td>190.144456</td>\n",
              "      <td>152.107533</td>\n",
              "    </tr>\n",
              "    <tr>\n",
              "      <th>2016-11-01</th>\n",
              "      <td>150.54</td>\n",
              "      <td>166.186667</td>\n",
              "      <td>171.210000</td>\n",
              "      <td>159.466758</td>\n",
              "      <td>163.821337</td>\n",
              "      <td>152.237273</td>\n",
              "    </tr>\n",
              "    <tr>\n",
              "      <th>2016-12-01</th>\n",
              "      <td>244.37</td>\n",
              "      <td>175.566667</td>\n",
              "      <td>163.386667</td>\n",
              "      <td>155.003379</td>\n",
              "      <td>154.524401</td>\n",
              "      <td>151.728091</td>\n",
              "    </tr>\n",
              "    <tr>\n",
              "      <th>2017-01-01</th>\n",
              "      <td>263.64</td>\n",
              "      <td>182.483333</td>\n",
              "      <td>197.788333</td>\n",
              "      <td>199.686689</td>\n",
              "      <td>217.416320</td>\n",
              "      <td>179.520664</td>\n",
              "    </tr>\n",
              "    <tr>\n",
              "      <th>2017-02-01</th>\n",
              "      <td>214.32</td>\n",
              "      <td>219.516667</td>\n",
              "      <td>238.366667</td>\n",
              "      <td>231.663345</td>\n",
              "      <td>249.772896</td>\n",
              "      <td>204.756465</td>\n",
              "    </tr>\n",
              "    <tr>\n",
              "      <th>2017-03-01</th>\n",
              "      <td>151.54</td>\n",
              "      <td>240.776667</td>\n",
              "      <td>235.768333</td>\n",
              "      <td>222.991672</td>\n",
              "      <td>224.955869</td>\n",
              "      <td>207.625525</td>\n",
              "    </tr>\n",
              "    <tr>\n",
              "      <th>2017-04-01</th>\n",
              "      <td>118.79</td>\n",
              "      <td>209.833333</td>\n",
              "      <td>191.150000</td>\n",
              "      <td>187.265836</td>\n",
              "      <td>173.564761</td>\n",
              "      <td>190.799868</td>\n",
              "    </tr>\n",
              "    <tr>\n",
              "      <th>2017-05-01</th>\n",
              "      <td>153.18</td>\n",
              "      <td>161.550000</td>\n",
              "      <td>145.628333</td>\n",
              "      <td>153.027918</td>\n",
              "      <td>135.222428</td>\n",
              "      <td>169.196907</td>\n",
              "    </tr>\n",
              "    <tr>\n",
              "      <th>2017-06-01</th>\n",
              "      <td>212.08</td>\n",
              "      <td>141.170000</td>\n",
              "      <td>141.443333</td>\n",
              "      <td>153.103959</td>\n",
              "      <td>147.792728</td>\n",
              "      <td>164.391835</td>\n",
              "    </tr>\n",
              "    <tr>\n",
              "      <th>2017-07-01</th>\n",
              "      <td>281.19</td>\n",
              "      <td>161.350000</td>\n",
              "      <td>176.898333</td>\n",
              "      <td>182.591980</td>\n",
              "      <td>192.793819</td>\n",
              "      <td>178.698285</td>\n",
              "    </tr>\n",
              "    <tr>\n",
              "      <th>2017-08-01</th>\n",
              "      <td>237.97</td>\n",
              "      <td>215.483333</td>\n",
              "      <td>236.818333</td>\n",
              "      <td>231.890990</td>\n",
              "      <td>254.671146</td>\n",
              "      <td>209.445799</td>\n",
              "    </tr>\n",
              "    <tr>\n",
              "      <th>2017-09-01</th>\n",
              "      <td>284.30</td>\n",
              "      <td>243.746667</td>\n",
              "      <td>248.061667</td>\n",
              "      <td>234.930495</td>\n",
              "      <td>242.980344</td>\n",
              "      <td>218.003059</td>\n",
              "    </tr>\n",
              "    <tr>\n",
              "      <th>2017-10-01</th>\n",
              "      <td>172.69</td>\n",
              "      <td>267.820000</td>\n",
              "      <td>268.338333</td>\n",
              "      <td>259.615247</td>\n",
              "      <td>271.904103</td>\n",
              "      <td>237.892142</td>\n",
              "    </tr>\n",
              "    <tr>\n",
              "      <th>2017-11-01</th>\n",
              "      <td>111.51</td>\n",
              "      <td>231.653333</td>\n",
              "      <td>220.773333</td>\n",
              "      <td>216.152624</td>\n",
              "      <td>202.454231</td>\n",
              "      <td>218.331499</td>\n",
              "    </tr>\n",
              "    <tr>\n",
              "      <th>2017-12-01</th>\n",
              "      <td>151.42</td>\n",
              "      <td>189.500000</td>\n",
              "      <td>160.701667</td>\n",
              "      <td>163.831312</td>\n",
              "      <td>138.793269</td>\n",
              "      <td>186.285049</td>\n",
              "    </tr>\n",
              "    <tr>\n",
              "      <th>2018-01-01</th>\n",
              "      <td>267.32</td>\n",
              "      <td>145.206667</td>\n",
              "      <td>141.661667</td>\n",
              "      <td>157.625656</td>\n",
              "      <td>147.631981</td>\n",
              "      <td>175.825535</td>\n",
              "    </tr>\n",
              "    <tr>\n",
              "      <th>2018-02-01</th>\n",
              "      <td>201.35</td>\n",
              "      <td>176.750000</td>\n",
              "      <td>202.718333</td>\n",
              "      <td>212.472828</td>\n",
              "      <td>231.413594</td>\n",
              "      <td>203.273874</td>\n",
              "    </tr>\n",
              "    <tr>\n",
              "      <th>2018-03-01</th>\n",
              "      <td>202.91</td>\n",
              "      <td>206.696667</td>\n",
              "      <td>215.018333</td>\n",
              "      <td>206.911414</td>\n",
              "      <td>210.369078</td>\n",
              "      <td>202.696712</td>\n",
              "    </tr>\n",
              "    <tr>\n",
              "      <th>2018-04-01</th>\n",
              "      <td>150.86</td>\n",
              "      <td>223.860000</td>\n",
              "      <td>213.125000</td>\n",
              "      <td>204.910707</td>\n",
              "      <td>205.147723</td>\n",
              "      <td>202.760698</td>\n",
              "    </tr>\n",
              "    <tr>\n",
              "      <th>2018-05-01</th>\n",
              "      <td>163.07</td>\n",
              "      <td>185.040000</td>\n",
              "      <td>176.625000</td>\n",
              "      <td>177.885353</td>\n",
              "      <td>167.146317</td>\n",
              "      <td>187.190489</td>\n",
              "    </tr>\n",
              "    <tr>\n",
              "      <th>2018-06-01</th>\n",
              "      <td>219.76</td>\n",
              "      <td>172.280000</td>\n",
              "      <td>165.640000</td>\n",
              "      <td>170.477677</td>\n",
              "      <td>164.292895</td>\n",
              "      <td>179.954342</td>\n",
              "    </tr>\n",
              "    <tr>\n",
              "      <th>2018-07-01</th>\n",
              "      <td>283.98</td>\n",
              "      <td>177.896667</td>\n",
              "      <td>189.380000</td>\n",
              "      <td>195.118838</td>\n",
              "      <td>203.119869</td>\n",
              "      <td>191.896040</td>\n",
              "    </tr>\n",
              "    <tr>\n",
              "      <th>2018-08-01</th>\n",
              "      <td>290.15</td>\n",
              "      <td>222.270000</td>\n",
              "      <td>242.421667</td>\n",
              "      <td>239.549419</td>\n",
              "      <td>259.721961</td>\n",
              "      <td>219.521228</td>\n",
              "    </tr>\n",
              "    <tr>\n",
              "      <th>2018-09-01</th>\n",
              "      <td>257.96</td>\n",
              "      <td>264.630000</td>\n",
              "      <td>276.361667</td>\n",
              "      <td>264.849710</td>\n",
              "      <td>281.021588</td>\n",
              "      <td>240.709859</td>\n",
              "    </tr>\n",
              "    <tr>\n",
              "      <th>2018-10-01</th>\n",
              "      <td>327.19</td>\n",
              "      <td>277.363333</td>\n",
              "      <td>273.026667</td>\n",
              "      <td>261.404855</td>\n",
              "      <td>264.878476</td>\n",
              "      <td>245.884902</td>\n",
              "    </tr>\n",
              "    <tr>\n",
              "      <th>2018-11-01</th>\n",
              "      <td>193.49</td>\n",
              "      <td>291.766667</td>\n",
              "      <td>297.940000</td>\n",
              "      <td>294.297427</td>\n",
              "      <td>308.496543</td>\n",
              "      <td>270.276431</td>\n",
              "    </tr>\n",
              "    <tr>\n",
              "      <th>2018-12-01</th>\n",
              "      <td>152.34</td>\n",
              "      <td>259.546667</td>\n",
              "      <td>248.801667</td>\n",
              "      <td>243.893714</td>\n",
              "      <td>227.991963</td>\n",
              "      <td>247.240502</td>\n",
              "    </tr>\n",
              "  </tbody>\n",
              "</table>\n",
              "</div>"
            ],
            "text/plain": [
              "            Billed_amount  ma_rolling_3  ...  esm_window_3_7  esm_window_3_3\n",
              "Bill_Date                                ...                                \n",
              "2016-01-01         247.73           NaN  ...             NaN             NaN\n",
              "2016-02-01         234.11           NaN  ...             NaN             NaN\n",
              "2016-03-01         123.85           NaN  ...             NaN             NaN\n",
              "2016-04-01         111.22    201.896667  ...      158.153800      207.705800\n",
              "2016-05-01         118.37    156.393333  ...      125.300140      178.760060\n",
              "2016-06-01          77.81    117.813333  ...      120.449042      160.643042\n",
              "2016-07-01          86.67    102.466667  ...       90.601713      135.793129\n",
              "2016-08-01         122.40     94.283333  ...       87.849514      121.056191\n",
              "2016-09-01         223.62     95.626667  ...      112.034854      121.459333\n",
              "2016-10-01         152.54    144.230000  ...      190.144456      152.107533\n",
              "2016-11-01         150.54    166.186667  ...      163.821337      152.237273\n",
              "2016-12-01         244.37    175.566667  ...      154.524401      151.728091\n",
              "2017-01-01         263.64    182.483333  ...      217.416320      179.520664\n",
              "2017-02-01         214.32    219.516667  ...      249.772896      204.756465\n",
              "2017-03-01         151.54    240.776667  ...      224.955869      207.625525\n",
              "2017-04-01         118.79    209.833333  ...      173.564761      190.799868\n",
              "2017-05-01         153.18    161.550000  ...      135.222428      169.196907\n",
              "2017-06-01         212.08    141.170000  ...      147.792728      164.391835\n",
              "2017-07-01         281.19    161.350000  ...      192.793819      178.698285\n",
              "2017-08-01         237.97    215.483333  ...      254.671146      209.445799\n",
              "2017-09-01         284.30    243.746667  ...      242.980344      218.003059\n",
              "2017-10-01         172.69    267.820000  ...      271.904103      237.892142\n",
              "2017-11-01         111.51    231.653333  ...      202.454231      218.331499\n",
              "2017-12-01         151.42    189.500000  ...      138.793269      186.285049\n",
              "2018-01-01         267.32    145.206667  ...      147.631981      175.825535\n",
              "2018-02-01         201.35    176.750000  ...      231.413594      203.273874\n",
              "2018-03-01         202.91    206.696667  ...      210.369078      202.696712\n",
              "2018-04-01         150.86    223.860000  ...      205.147723      202.760698\n",
              "2018-05-01         163.07    185.040000  ...      167.146317      187.190489\n",
              "2018-06-01         219.76    172.280000  ...      164.292895      179.954342\n",
              "2018-07-01         283.98    177.896667  ...      203.119869      191.896040\n",
              "2018-08-01         290.15    222.270000  ...      259.721961      219.521228\n",
              "2018-09-01         257.96    264.630000  ...      281.021588      240.709859\n",
              "2018-10-01         327.19    277.363333  ...      264.878476      245.884902\n",
              "2018-11-01         193.49    291.766667  ...      308.496543      270.276431\n",
              "2018-12-01         152.34    259.546667  ...      227.991963      247.240502\n",
              "\n",
              "[36 rows x 6 columns]"
            ]
          },
          "metadata": {
            "tags": []
          },
          "execution_count": 66
        }
      ]
    },
    {
      "cell_type": "code",
      "metadata": {
        "id": "i5K4-vwa_d5s",
        "colab_type": "code",
        "colab": {
          "base_uri": "https://localhost:8080/",
          "height": 525
        },
        "outputId": "5804b609-a483-4bdf-f09b-f7fb116aed5e"
      },
      "source": [
        "bill_2018[['Billed_amount','esm_window_3_3']].plot()"
      ],
      "execution_count": 67,
      "outputs": [
        {
          "output_type": "execute_result",
          "data": {
            "text/plain": [
              "<matplotlib.axes._subplots.AxesSubplot at 0x7f5b0f297b70>"
            ]
          },
          "metadata": {
            "tags": []
          },
          "execution_count": 67
        },
        {
          "output_type": "display_data",
          "data": {
            "image/png": "[encoded data removed]",
            "text/plain": [
              "<Figure size 720x576 with 1 Axes>"
            ]
          },
          "metadata": {
            "tags": [],
            "needs_background": "light"
          }
        }
      ]
    },
    {
      "cell_type": "code",
      "metadata": {
        "id": "-71-HtqP_d3I",
        "colab_type": "code",
        "colab": {
          "base_uri": "https://localhost:8080/",
          "height": 525
        },
        "outputId": "6d33494c-4230-4eb6-e6c1-54161ec78edd"
      },
      "source": [
        "bill_2018[['Billed_amount','esm_window_3_7', 'esm_window_3_3']].plot()"
      ],
      "execution_count": 68,
      "outputs": [
        {
          "output_type": "execute_result",
          "data": {
            "text/plain": [
              "<matplotlib.axes._subplots.AxesSubplot at 0x7f5b0f2d3da0>"
            ]
          },
          "metadata": {
            "tags": []
          },
          "execution_count": 68
        },
        {
          "output_type": "display_data",
          "data": {
            "image/png": "[encoded data removed]",
            "text/plain": [
              "<Figure size 720x576 with 1 Axes>"
            ]
          },
          "metadata": {
            "tags": [],
            "needs_background": "light"
          }
        }
      ]
    },
    {
      "cell_type": "markdown",
      "metadata": {
        "id": "uhcPr9xknBNt",
        "colab_type": "text"
      },
      "source": [
        "![alt text](data:image/png;base64,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)"
      ]
    },
    {
      "cell_type": "code",
      "metadata": {
        "id": "HYvGM7b-_dxS",
        "colab_type": "code",
        "colab": {
          "base_uri": "https://localhost:8080/",
          "height": 34
        },
        "outputId": "5bbb49d2-83a6-4e3e-b0be-ee023cb028fe"
      },
      "source": [
        "((bill_2018['Billed_amount']-bill_2018['ma_rolling_3'])**2).mean()**0.5"
      ],
      "execution_count": 69,
      "outputs": [
        {
          "output_type": "execute_result",
          "data": {
            "text/plain": [
              "70.98561687433802"
            ]
          },
          "metadata": {
            "tags": []
          },
          "execution_count": 69
        }
      ]
    },
    {
      "cell_type": "code",
      "metadata": {
        "id": "1arUawX-_dt3",
        "colab_type": "code",
        "colab": {
          "base_uri": "https://localhost:8080/",
          "height": 34
        },
        "outputId": "660eee74-a3d0-422c-e974-2d9a95db207c"
      },
      "source": [
        "((bill_2018['Billed_amount']-bill_2018['wma_rolling_3'])**2).mean()**0.5"
      ],
      "execution_count": 70,
      "outputs": [
        {
          "output_type": "execute_result",
          "data": {
            "text/plain": [
              "65.82572602256133"
            ]
          },
          "metadata": {
            "tags": []
          },
          "execution_count": 70
        }
      ]
    },
    {
      "cell_type": "code",
      "metadata": {
        "id": "MUWkFpAl_dqN",
        "colab_type": "code",
        "colab": {
          "base_uri": "https://localhost:8080/",
          "height": 34
        },
        "outputId": "d9178d35-588b-4d58-efe1-d74e7129dda2"
      },
      "source": [
        "((bill_2018['Billed_amount']-bill_2018['ewm_window_3'])**2).mean()**0.5"
      ],
      "execution_count": 71,
      "outputs": [
        {
          "output_type": "execute_result",
          "data": {
            "text/plain": [
              "64.32131239414655"
            ]
          },
          "metadata": {
            "tags": []
          },
          "execution_count": 71
        }
      ]
    },
    {
      "cell_type": "code",
      "metadata": {
        "id": "sKzKitcI_dnB",
        "colab_type": "code",
        "colab": {
          "base_uri": "https://localhost:8080/",
          "height": 34
        },
        "outputId": "5da9bd66-4a50-4843-abfa-75194bf51832"
      },
      "source": [
        "((bill_2018['Billed_amount']-bill_2018['esm_window_3_7'])**2).mean()**0.5"
      ],
      "execution_count": 72,
      "outputs": [
        {
          "output_type": "execute_result",
          "data": {
            "text/plain": [
              "61.26408398853503"
            ]
          },
          "metadata": {
            "tags": []
          },
          "execution_count": 72
        }
      ]
    },
    {
      "cell_type": "code",
      "metadata": {
        "id": "V44L0DG3_dhD",
        "colab_type": "code",
        "colab": {
          "base_uri": "https://localhost:8080/",
          "height": 34
        },
        "outputId": "73b4c98b-2a12-41cb-aa3c-8acee2eb0471"
      },
      "source": [
        "((bill_2018['Billed_amount']-bill_2018['esm_window_3_3'])**2).mean()**0.5"
      ],
      "execution_count": 73,
      "outputs": [
        {
          "output_type": "execute_result",
          "data": {
            "text/plain": [
              "65.22424423118377"
            ]
          },
          "metadata": {
            "tags": []
          },
          "execution_count": 73
        }
      ]
    },
    {
      "cell_type": "code",
      "metadata": {
        "id": "hxnUdIbEJ5pd",
        "colab_type": "code",
        "colab": {}
      },
      "source": [
        ""
      ],
      "execution_count": 36,
      "outputs": []
    },
    {
      "cell_type": "code",
      "metadata": {
        "id": "pZzw8yNCn5z_",
        "colab_type": "code",
        "colab": {}
      },
      "source": [
        ""
      ],
      "execution_count": 36,
      "outputs": []
    },
    {
      "cell_type": "code",
      "metadata": {
        "id": "SX_p7Hlmn5xS",
        "colab_type": "code",
        "colab": {}
      },
      "source": [
        ""
      ],
      "execution_count": 36,
      "outputs": []
    },
    {
      "cell_type": "code",
      "metadata": {
        "id": "A5Rv8Eq5n5vi",
        "colab_type": "code",
        "colab": {}
      },
      "source": [
        ""
      ],
      "execution_count": 36,
      "outputs": []
    },
    {
      "cell_type": "code",
      "metadata": {
        "id": "GXj6EP8Cn5te",
        "colab_type": "code",
        "colab": {}
      },
      "source": [
        ""
      ],
      "execution_count": 36,
      "outputs": []
    },
    {
      "cell_type": "code",
      "metadata": {
        "id": "1gXNI_7_n5o5",
        "colab_type": "code",
        "colab": {}
      },
      "source": [
        ""
      ],
      "execution_count": 36,
      "outputs": []
    },
    {
      "cell_type": "code",
      "metadata": {
        "id": "hTEY6KBan5nf",
        "colab_type": "code",
        "colab": {}
      },
      "source": [
        ""
      ],
      "execution_count": 36,
      "outputs": []
    },
    {
      "cell_type": "code",
      "metadata": {
        "id": "okfQ8A9Un5ja",
        "colab_type": "code",
        "colab": {}
      },
      "source": [
        ""
      ],
      "execution_count": 36,
      "outputs": []
    },
    {
      "cell_type": "code",
      "metadata": {
        "id": "4DiDtpP3n5g-",
        "colab_type": "code",
        "colab": {}
      },
      "source": [
        ""
      ],
      "execution_count": 36,
      "outputs": []
    },
    {
      "cell_type": "code",
      "metadata": {
        "id": "pl58zDrHn5dP",
        "colab_type": "code",
        "colab": {}
      },
      "source": [
        ""
      ],
      "execution_count": 36,
      "outputs": []
    },
    {
      "cell_type": "code",
      "metadata": {
        "id": "Efyh6nbVqZyK",
        "colab_type": "code",
        "colab": {}
      },
      "source": [
        ""
      ],
      "execution_count": 36,
      "outputs": []
    },
    {
      "cell_type": "code",
      "metadata": {
        "id": "39JW1HZcqZwl",
        "colab_type": "code",
        "colab": {}
      },
      "source": [
        ""
      ],
      "execution_count": 36,
      "outputs": []
    },
    {
      "cell_type": "code",
      "metadata": {
        "id": "RCmLUUvLqZpx",
        "colab_type": "code",
        "colab": {}
      },
      "source": [
        ""
      ],
      "execution_count": 36,
      "outputs": []
    },
    {
      "cell_type": "code",
      "metadata": {
        "id": "vpbb5CVgqZle",
        "colab_type": "code",
        "colab": {}
      },
      "source": [
        ""
      ],
      "execution_count": 36,
      "outputs": []
    },
    {
      "cell_type": "code",
      "metadata": {
        "id": "TUztrPS-n5aA",
        "colab_type": "code",
        "colab": {}
      },
      "source": [
        ""
      ],
      "execution_count": 36,
      "outputs": []
    },
    {
      "cell_type": "code",
      "metadata": {
        "id": "heaGQsy2n5WM",
        "colab_type": "code",
        "colab": {}
      },
      "source": [
        ""
      ],
      "execution_count": 36,
      "outputs": []
    },
    {
      "cell_type": "code",
      "metadata": {
        "id": "YVcwf7H6J5K4",
        "colab_type": "code",
        "colab": {}
      },
      "source": [
        ""
      ],
      "execution_count": 36,
      "outputs": []
    },
    {
      "cell_type": "code",
      "metadata": {
        "id": "kkHpfx405Cr2",
        "colab_type": "code",
        "colab": {}
      },
      "source": [
        ""
      ],
      "execution_count": 36,
      "outputs": []
    }
  ]
}